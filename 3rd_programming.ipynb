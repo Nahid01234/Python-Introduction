{
 "cells": [
  {
   "cell_type": "code",
   "execution_count": 2,
   "id": "e891b4bd",
   "metadata": {},
   "outputs": [
    {
     "name": "stdout",
     "output_type": "stream",
     "text": [
      "nahid\n",
      "sajid\n",
      "mahamud\n",
      "niloy\n"
     ]
    }
   ],
   "source": [
    "                              #LIST(MUTABLE)\n",
    "\n",
    "names=[\"nahid\",\"sajid\",\"mahamud\",\"niloy\"]\n",
    "print(names[0])\n",
    "print(names[1])\n",
    "print(names[2])\n",
    "print(names[3])"
   ]
  },
  {
   "cell_type": "code",
   "execution_count": 5,
   "id": "b70891c9",
   "metadata": {},
   "outputs": [
    {
     "data": {
      "text/plain": [
       "'My name is nahid and sajid,mahamud,niloy are my friends '"
      ]
     },
     "execution_count": 5,
     "metadata": {},
     "output_type": "execute_result"
    }
   ],
   "source": [
    "story=\"My name is \"+names[0]+\" and \"+\"{},{},{} are my friends \".format(names[1],names[2],names[3])\n",
    "story"
   ]
  },
  {
   "cell_type": "code",
   "execution_count": 11,
   "id": "bd8f7d83",
   "metadata": {},
   "outputs": [
    {
     "data": {
      "text/plain": [
       "['nahid', 'sajid', 'mahamud', 'niloy', 'mahfuz', 'uddipto']"
      ]
     },
     "execution_count": 11,
     "metadata": {},
     "output_type": "execute_result"
    }
   ],
   "source": [
    "names.append(\"mahfuz\")\n",
    "names.append(\"uddipto\")\n",
    "names"
   ]
  },
  {
   "cell_type": "code",
   "execution_count": 12,
   "id": "29d4057d",
   "metadata": {},
   "outputs": [
    {
     "name": "stdout",
     "output_type": "stream",
     "text": [
      "sajid,Katakhali jaba?\n"
     ]
    }
   ],
   "source": [
    "massage_1=names[1]+\",\"+\"Katakhali jaba?\"\n",
    "print(massage_1)"
   ]
  },
  {
   "cell_type": "code",
   "execution_count": 13,
   "id": "77edc755",
   "metadata": {},
   "outputs": [
    {
     "name": "stdout",
     "output_type": "stream",
     "text": [
      "mahamud,Chol Katakhali jai.\n"
     ]
    }
   ],
   "source": [
    "massage_2=names[2]+\",\"+\"Chol Katakhali jai.\"\n",
    "print(massage_2)"
   ]
  },
  {
   "cell_type": "code",
   "execution_count": 14,
   "id": "bc0cf9e9",
   "metadata": {},
   "outputs": [
    {
     "name": "stdout",
     "output_type": "stream",
     "text": [
      "niloy,Shabasbanglar pisone group study koros naki!!!.\n"
     ]
    }
   ],
   "source": [
    "massage_3=names[3]+\",\"+\"Shabasbanglar pisone group study koros naki!!!.\"\n",
    "print(massage_3)"
   ]
  },
  {
   "cell_type": "code",
   "execution_count": 15,
   "id": "ef1782cb",
   "metadata": {},
   "outputs": [
    {
     "name": "stdout",
     "output_type": "stream",
     "text": [
      "mahfuz, porasuna suru korcos!.\n"
     ]
    }
   ],
   "source": [
    "massage_4=names[4]+\",\"+\" porasuna suru korcos!.\"\n",
    "print(massage_4)"
   ]
  },
  {
   "cell_type": "code",
   "execution_count": 16,
   "id": "6db78cbb",
   "metadata": {},
   "outputs": [
    {
     "name": "stdout",
     "output_type": "stream",
     "text": [
      "uddipto,Ki mama khub tuition koraccho!.\n"
     ]
    }
   ],
   "source": [
    "massage_5=names[5]+\",\"+\"Ki mama khub tuition koraccho!.\"\n",
    "print(massage_5)"
   ]
  },
  {
   "cell_type": "code",
   "execution_count": 17,
   "id": "370021d5",
   "metadata": {},
   "outputs": [
    {
     "data": {
      "text/plain": [
       "'Python is the simplist Programming language'"
      ]
     },
     "execution_count": 17,
     "metadata": {},
     "output_type": "execute_result"
    }
   ],
   "source": [
    "p_n=[\"Python\",\"C++\",\"C\",\"Java\",\"Javascript\",\"Ruby\"]\n",
    "story_1=p_n[0]+\" is the simplist Programming language\"\n",
    "story_1\n"
   ]
  },
  {
   "cell_type": "code",
   "execution_count": 18,
   "id": "be7bd51d",
   "metadata": {},
   "outputs": [
    {
     "data": {
      "text/plain": [
       "'C++ is Static & very hard Programming language'"
      ]
     },
     "execution_count": 18,
     "metadata": {},
     "output_type": "execute_result"
    }
   ],
   "source": [
    "story_2=p_n[1]+\" is Static & very hard Programming language\"\n",
    "story_2"
   ]
  },
  {
   "cell_type": "code",
   "execution_count": 19,
   "id": "f89ca75b",
   "metadata": {},
   "outputs": [
    {
     "data": {
      "text/plain": [
       "'C is easy & starter Programming language'"
      ]
     },
     "execution_count": 19,
     "metadata": {},
     "output_type": "execute_result"
    }
   ],
   "source": [
    "story_3=p_n[2]+\" is easy & starter Programming language\"\n",
    "story_3"
   ]
  },
  {
   "cell_type": "code",
   "execution_count": 20,
   "id": "dc3c2e57",
   "metadata": {},
   "outputs": [
    {
     "data": {
      "text/plain": [
       "[1, 2, 3, 4, 5]"
      ]
     },
     "execution_count": 20,
     "metadata": {},
     "output_type": "execute_result"
    }
   ],
   "source": [
    "num=[]\n",
    "num.append(1)\n",
    "num.append(2)\n",
    "num.append(3)\n",
    "num.append(4)\n",
    "num.append(5)\n",
    "num"
   ]
  },
  {
   "cell_type": "code",
   "execution_count": 21,
   "id": "8d4c769b",
   "metadata": {},
   "outputs": [
    {
     "data": {
      "text/plain": [
       "[0, 2, 3, 4, 5]"
      ]
     },
     "execution_count": 21,
     "metadata": {},
     "output_type": "execute_result"
    }
   ],
   "source": [
    "num[0]=0\n",
    "num"
   ]
  },
  {
   "cell_type": "code",
   "execution_count": 22,
   "id": "06a7d405",
   "metadata": {},
   "outputs": [],
   "source": [
    "car=[\"BMW\",\"Lambergini\",\"Bugatti\",\"Ferrari\",\"Toyota\",\"Marcedes\"]\n"
   ]
  },
  {
   "cell_type": "code",
   "execution_count": 23,
   "id": "2b7c7c51",
   "metadata": {},
   "outputs": [
    {
     "data": {
      "text/plain": [
       "['BMW', 'Lambergini', 'Bugatti', 'Ferrari', 'Rolls Royes', 'Marcedes']"
      ]
     },
     "execution_count": 23,
     "metadata": {},
     "output_type": "execute_result"
    }
   ],
   "source": [
    "car[-2]=\"Rolls Royes\"\n",
    "car"
   ]
  },
  {
   "cell_type": "code",
   "execution_count": 24,
   "id": "1367370b",
   "metadata": {},
   "outputs": [
    {
     "data": {
      "text/plain": [
       "['BMW',\n",
       " 'Lambergini',\n",
       " 'Bugatti',\n",
       " 'Ferrari',\n",
       " 'Rolls Royes',\n",
       " 'Marcedes',\n",
       " 'Vwolswagen']"
      ]
     },
     "execution_count": 24,
     "metadata": {},
     "output_type": "execute_result"
    }
   ],
   "source": [
    "car.append(\"Vwolswagen\")\n",
    "car"
   ]
  },
  {
   "cell_type": "code",
   "execution_count": 25,
   "id": "d1aa2971",
   "metadata": {},
   "outputs": [
    {
     "data": {
      "text/plain": [
       "['BMW',\n",
       " 'Lambergini',\n",
       " 'Bugatti',\n",
       " 'Ferrari',\n",
       " 'Rolls Royes',\n",
       " 'Toyota',\n",
       " 'Marcedes',\n",
       " 'Vwolswagen']"
      ]
     },
     "execution_count": 25,
     "metadata": {},
     "output_type": "execute_result"
    }
   ],
   "source": [
    "car.insert(5,\"Toyota\")\n",
    "car"
   ]
  },
  {
   "cell_type": "code",
   "execution_count": 26,
   "id": "7ae15177",
   "metadata": {},
   "outputs": [
    {
     "data": {
      "text/plain": [
       "['BMW',\n",
       " 'Lambergini',\n",
       " 'Bugatti',\n",
       " 'Ferrari',\n",
       " 'Rolls Royes',\n",
       " 'Toyota',\n",
       " 'Marcedes']"
      ]
     },
     "execution_count": 26,
     "metadata": {},
     "output_type": "execute_result"
    }
   ],
   "source": [
    "car.pop()\n",
    "car"
   ]
  },
  {
   "cell_type": "code",
   "execution_count": 27,
   "id": "838915fb",
   "metadata": {},
   "outputs": [
    {
     "data": {
      "text/plain": [
       "['BMW', 'Lambergini', 'Bugatti', 'Ferrari', 'Rolls Royes', 'Marcedes']"
      ]
     },
     "execution_count": 27,
     "metadata": {},
     "output_type": "execute_result"
    }
   ],
   "source": [
    "del car[5]\n",
    "car"
   ]
  },
  {
   "cell_type": "code",
   "execution_count": 28,
   "id": "c332eea2",
   "metadata": {},
   "outputs": [
    {
     "data": {
      "text/plain": [
       "'What a glorious car is Rolls Royes!!!'"
      ]
     },
     "execution_count": 28,
     "metadata": {},
     "output_type": "execute_result"
    }
   ],
   "source": [
    "\n",
    "opinion=\"What a glorious car is \"+car.pop(4)+\"!!!\"\n",
    "opinion"
   ]
  },
  {
   "cell_type": "code",
   "execution_count": 30,
   "id": "cc37972a",
   "metadata": {},
   "outputs": [
    {
     "data": {
      "text/plain": [
       "'My Favourite Car is Ferrari.'"
      ]
     },
     "execution_count": 30,
     "metadata": {},
     "output_type": "execute_result"
    }
   ],
   "source": [
    "discuss=\"My Favourite Car is \"+car.pop(3)+\".\"\n",
    "discuss"
   ]
  },
  {
   "cell_type": "code",
   "execution_count": 123,
   "id": "4938a9b7",
   "metadata": {},
   "outputs": [
    {
     "data": {
      "text/plain": [
       "['BMW', 'Lambergini', 'Marcedes']"
      ]
     },
     "execution_count": 123,
     "metadata": {},
     "output_type": "execute_result"
    }
   ],
   "source": [
    "car.remove(\"Bugatti\")\n",
    "car"
   ]
  },
  {
   "cell_type": "code",
   "execution_count": 127,
   "id": "c4f39956",
   "metadata": {},
   "outputs": [
    {
     "data": {
      "text/plain": [
       "'A BMW is very expensive car!!'"
      ]
     },
     "execution_count": 127,
     "metadata": {},
     "output_type": "execute_result"
    }
   ],
   "source": [
    "price=\"A \"+car.pop(0)+\" is very expensive car!!\"\n",
    "price"
   ]
  },
  {
   "cell_type": "code",
   "execution_count": 128,
   "id": "5ef9e87e",
   "metadata": {},
   "outputs": [
    {
     "data": {
      "text/plain": [
       "['nahid', 'sajid', 'mahamud', 'niloy', 'mahfuz', 'uddipto']"
      ]
     },
     "execution_count": 128,
     "metadata": {},
     "output_type": "execute_result"
    }
   ],
   "source": [
    "names"
   ]
  },
  {
   "cell_type": "code",
   "execution_count": 129,
   "id": "23e63242",
   "metadata": {},
   "outputs": [
    {
     "data": {
      "text/plain": [
       "['mahamud', 'mahfuz', 'nahid', 'niloy', 'sajid', 'uddipto']"
      ]
     },
     "execution_count": 129,
     "metadata": {},
     "output_type": "execute_result"
    }
   ],
   "source": [
    "names.sort()\n",
    "names"
   ]
  },
  {
   "cell_type": "code",
   "execution_count": 130,
   "id": "657dbb02",
   "metadata": {},
   "outputs": [
    {
     "data": {
      "text/plain": [
       "['uddipto', 'sajid', 'niloy', 'nahid', 'mahfuz', 'mahamud']"
      ]
     },
     "execution_count": 130,
     "metadata": {},
     "output_type": "execute_result"
    }
   ],
   "source": [
    "names.reverse()\n",
    "names"
   ]
  },
  {
   "cell_type": "code",
   "execution_count": 139,
   "id": "3122deb5",
   "metadata": {},
   "outputs": [
    {
     "name": "stdout",
     "output_type": "stream",
     "text": [
      " the sorted list:\n"
     ]
    },
    {
     "data": {
      "text/plain": [
       "['mahamud', 'mahfuz', 'nahid', 'niloy', 'sajid', 'uddipto']"
      ]
     },
     "execution_count": 139,
     "metadata": {},
     "output_type": "execute_result"
    }
   ],
   "source": [
    "print(\" the sorted list:\")\n",
    "sorted(names)\n"
   ]
  },
  {
   "cell_type": "code",
   "execution_count": 136,
   "id": "878288b7",
   "metadata": {},
   "outputs": [
    {
     "name": "stdout",
     "output_type": "stream",
     "text": [
      " the reversed list:\n"
     ]
    },
    {
     "data": {
      "text/plain": [
       "['uddipto', 'sajid', 'niloy', 'nahid', 'mahfuz', 'mahamud']"
      ]
     },
     "execution_count": 136,
     "metadata": {},
     "output_type": "execute_result"
    }
   ],
   "source": [
    "print(\" the reversed list:\")\n",
    "names.reverse()\n",
    "names"
   ]
  },
  {
   "cell_type": "code",
   "execution_count": 137,
   "id": "2cbe2e07",
   "metadata": {},
   "outputs": [
    {
     "data": {
      "text/plain": [
       "6"
      ]
     },
     "execution_count": 137,
     "metadata": {},
     "output_type": "execute_result"
    }
   ],
   "source": [
    "len(names)"
   ]
  },
  {
   "cell_type": "code",
   "execution_count": 141,
   "id": "1792e321",
   "metadata": {},
   "outputs": [
    {
     "data": {
      "text/plain": [
       "['mahamud', 'mahfuz', 'nahid', 'niloy', 'sajid', 'uddipto']"
      ]
     },
     "execution_count": 141,
     "metadata": {},
     "output_type": "execute_result"
    }
   ],
   "source": [
    "sorted(names)"
   ]
  },
  {
   "cell_type": "code",
   "execution_count": null,
   "id": "0dcdc003",
   "metadata": {},
   "outputs": [],
   "source": []
  },
  {
   "cell_type": "code",
   "execution_count": 142,
   "id": "ac868be2",
   "metadata": {},
   "outputs": [
    {
     "data": {
      "text/plain": [
       "[1, 2, 3, 4]"
      ]
     },
     "execution_count": 142,
     "metadata": {},
     "output_type": "execute_result"
    }
   ],
   "source": [
    "m=(1,2,3,4)\n",
    "n=list(m)\n",
    "n"
   ]
  },
  {
   "cell_type": "code",
   "execution_count": 144,
   "id": "99892525",
   "metadata": {},
   "outputs": [
    {
     "data": {
      "text/plain": [
       "['1', '2', '3', '4', '5', '5']"
      ]
     },
     "execution_count": 144,
     "metadata": {},
     "output_type": "execute_result"
    }
   ],
   "source": [
    "m=list('123455')\n",
    "m"
   ]
  },
  {
   "cell_type": "code",
   "execution_count": 146,
   "id": "dc22b337",
   "metadata": {},
   "outputs": [],
   "source": [
    "mylist=[1,2,3,4,5,6]\n"
   ]
  },
  {
   "cell_type": "code",
   "execution_count": 147,
   "id": "8d507e27",
   "metadata": {},
   "outputs": [
    {
     "data": {
      "text/plain": [
       "6"
      ]
     },
     "execution_count": 147,
     "metadata": {},
     "output_type": "execute_result"
    }
   ],
   "source": [
    "max(mylist)"
   ]
  },
  {
   "cell_type": "code",
   "execution_count": 148,
   "id": "37c94c98",
   "metadata": {},
   "outputs": [
    {
     "data": {
      "text/plain": [
       "1"
      ]
     },
     "execution_count": 148,
     "metadata": {},
     "output_type": "execute_result"
    }
   ],
   "source": [
    "min(mylist)"
   ]
  },
  {
   "cell_type": "code",
   "execution_count": 149,
   "id": "727a57e2",
   "metadata": {},
   "outputs": [
    {
     "data": {
      "text/plain": [
       "21"
      ]
     },
     "execution_count": 149,
     "metadata": {},
     "output_type": "execute_result"
    }
   ],
   "source": [
    "sum(mylist)"
   ]
  },
  {
   "cell_type": "code",
   "execution_count": 177,
   "id": "cca4e4e5",
   "metadata": {},
   "outputs": [
    {
     "data": {
      "text/plain": [
       "[(0, 'nahid'),\n",
       " (1, 'sajid'),\n",
       " (2, 'mahamud'),\n",
       " (3, 'niloy'),\n",
       " (4, 'mahfuz'),\n",
       " (5, 'uddipto')]"
      ]
     },
     "execution_count": 177,
     "metadata": {},
     "output_type": "execute_result"
    }
   ],
   "source": [
    "list(enumerate(names))"
   ]
  },
  {
   "cell_type": "code",
   "execution_count": 171,
   "id": "e6e63628",
   "metadata": {},
   "outputs": [
    {
     "data": {
      "text/plain": [
       "['nahid', 'sajid', 'mahamud', 'niloy', 'mahfuz', 'uddipto']"
      ]
     },
     "execution_count": 171,
     "metadata": {},
     "output_type": "execute_result"
    }
   ],
   "source": [
    "names"
   ]
  },
  {
   "cell_type": "code",
   "execution_count": null,
   "id": "898f9ec0",
   "metadata": {},
   "outputs": [],
   "source": []
  },
  {
   "cell_type": "code",
   "execution_count": null,
   "id": "98366b4c",
   "metadata": {},
   "outputs": [],
   "source": []
  },
  {
   "cell_type": "code",
   "execution_count": null,
   "id": "8f45b06b",
   "metadata": {},
   "outputs": [],
   "source": []
  },
  {
   "cell_type": "code",
   "execution_count": null,
   "id": "f7a9e2a5",
   "metadata": {},
   "outputs": [],
   "source": []
  }
 ],
 "metadata": {
  "kernelspec": {
   "display_name": "Python 3 (ipykernel)",
   "language": "python",
   "name": "python3"
  },
  "language_info": {
   "codemirror_mode": {
    "name": "ipython",
    "version": 3
   },
   "file_extension": ".py",
   "mimetype": "text/x-python",
   "name": "python",
   "nbconvert_exporter": "python",
   "pygments_lexer": "ipython3",
   "version": "3.9.13"
  }
 },
 "nbformat": 4,
 "nbformat_minor": 5
}

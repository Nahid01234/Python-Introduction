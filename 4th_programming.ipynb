{
 "cells": [
  {
   "cell_type": "code",
   "execution_count": 1,
   "id": "9295ab60",
   "metadata": {},
   "outputs": [
    {
     "data": {
      "text/plain": [
       "['BMW', 'Lambergini', 'Bugatti', 'Rolls Royse']"
      ]
     },
     "execution_count": 1,
     "metadata": {},
     "output_type": "execute_result"
    }
   ],
   "source": [
    "                                              #WORKING_WITH_LIST            \n",
    "car=[\"BMW\",\"Lambergini\",\"Bugatti\",\"Rolls Royse\"]\n",
    "car"
   ]
  },
  {
   "cell_type": "code",
   "execution_count": 6,
   "id": "2a78dac7",
   "metadata": {},
   "outputs": [
    {
     "name": "stdout",
     "output_type": "stream",
     "text": [
      "['BMW']\n",
      "['Lambergini']\n",
      "['Bugatti']\n",
      "['Rolls Royse']\n"
     ]
    }
   ],
   "source": [
    "for i in car:\n",
    "    print([i])\n",
    "    "
   ]
  },
  {
   "cell_type": "code",
   "execution_count": 7,
   "id": "48578afd",
   "metadata": {},
   "outputs": [
    {
     "data": {
      "text/plain": [
       "'Lambergini'"
      ]
     },
     "execution_count": 7,
     "metadata": {},
     "output_type": "execute_result"
    }
   ],
   "source": [
    "car[1]"
   ]
  },
  {
   "cell_type": "code",
   "execution_count": null,
   "id": "b0f3f5ec",
   "metadata": {},
   "outputs": [],
   "source": []
  },
  {
   "cell_type": "code",
   "execution_count": 10,
   "id": "afa8a935",
   "metadata": {},
   "outputs": [
    {
     "name": "stdout",
     "output_type": "stream",
     "text": [
      "Everyone has a dream to buy a BMW !!!\n",
      "So,I have a dream to buy a BMW !!!\n",
      "\n",
      "Everyone has a dream to buy a Lambergini !!!\n",
      "So,I have a dream to buy a Lambergini !!!\n",
      "\n",
      "Everyone has a dream to buy a Bugatti !!!\n",
      "So,I have a dream to buy a Bugatti !!!\n",
      "\n",
      "Everyone has a dream to buy a Rolls Royse !!!\n",
      "So,I have a dream to buy a Rolls Royse !!!\n",
      "\n",
      "No more today!\n"
     ]
    }
   ],
   "source": [
    "for i in car:\n",
    "    print(\"Everyone has a dream to buy a \"+i+\" !!!\")\n",
    "    print(\"So,I have a dream to buy a \"+i+\" !!!\\n\")\n",
    "print(\"No more today!\")    "
   ]
  },
  {
   "cell_type": "code",
   "execution_count": 7,
   "id": "5058f1fc",
   "metadata": {},
   "outputs": [
    {
     "data": {
      "text/plain": [
       "[1, 2, 3, 4, 5]"
      ]
     },
     "execution_count": 7,
     "metadata": {},
     "output_type": "execute_result"
    }
   ],
   "source": [
    "value=list(range(1,6))\n",
    "value"
   ]
  },
  {
   "cell_type": "code",
   "execution_count": 8,
   "id": "2a005dba",
   "metadata": {},
   "outputs": [
    {
     "name": "stdout",
     "output_type": "stream",
     "text": [
      "1\n",
      "2\n",
      "3\n",
      "4\n",
      "5\n"
     ]
    }
   ],
   "source": [
    "for i in value:\n",
    "    print(i)"
   ]
  },
  {
   "cell_type": "code",
   "execution_count": 9,
   "id": "37df69c4",
   "metadata": {},
   "outputs": [
    {
     "name": "stdout",
     "output_type": "stream",
     "text": [
      "2\n",
      "4\n",
      "6\n",
      "8\n",
      "10\n",
      "12\n",
      "14\n",
      "16\n",
      "18\n",
      "20\n"
     ]
    }
   ],
   "source": [
    "odd_num=list(range(2,21,2))\n",
    "for i in odd_num:\n",
    "    print(i)"
   ]
  },
  {
   "cell_type": "code",
   "execution_count": 10,
   "id": "7d1362f5",
   "metadata": {},
   "outputs": [
    {
     "name": "stdout",
     "output_type": "stream",
     "text": [
      "1\n",
      "3\n",
      "5\n",
      "7\n",
      "9\n",
      "11\n",
      "13\n",
      "15\n",
      "17\n",
      "19\n"
     ]
    }
   ],
   "source": [
    "even_num=list(range(1,21,2))\n",
    "for i in even_num:\n",
    "    print(i)"
   ]
  },
  {
   "cell_type": "code",
   "execution_count": 11,
   "id": "6e8fdb50",
   "metadata": {},
   "outputs": [
    {
     "name": "stdout",
     "output_type": "stream",
     "text": [
      "[1, 2, 3, 4, 5, 6, 7, 8, 9, 10]\n"
     ]
    }
   ],
   "source": [
    "val=[]\n",
    "for i in range(1,11):\n",
    "    val.append(i)\n",
    "print(val)    "
   ]
  },
  {
   "cell_type": "code",
   "execution_count": 12,
   "id": "06f18100",
   "metadata": {},
   "outputs": [
    {
     "name": "stdout",
     "output_type": "stream",
     "text": [
      "[1, 4, 9, 16, 25, 36, 49, 64, 81, 100]\n"
     ]
    }
   ],
   "source": [
    "val=[]\n",
    "for i in range(1,11):\n",
    "    val.append(i**2)\n",
    "print(val) "
   ]
  },
  {
   "cell_type": "code",
   "execution_count": 13,
   "id": "d4472093",
   "metadata": {},
   "outputs": [
    {
     "name": "stdout",
     "output_type": "stream",
     "text": [
      "[1, 4, 9, 16]\n"
     ]
    }
   ],
   "source": [
    "val=(1,2,3,4)\n",
    "m=[x*x for x in val]\n",
    "print(m)"
   ]
  },
  {
   "cell_type": "code",
   "execution_count": 13,
   "id": "bfb1bca3",
   "metadata": {},
   "outputs": [
    {
     "name": "stdout",
     "output_type": "stream",
     "text": [
      "[1, 4, 9, 16]\n"
     ]
    }
   ],
   "source": [
    "                            #LIST_COMPREHESIONS\n",
    "#[list name]\n",
    "#result=[\"expression\" for \"value/variable\" in \"list name\"  ]\n",
    "#print(result)   \n",
    "    \n",
    "val=[1,2,3,4]\n",
    "m=[x*x for x in val]\n",
    "print(m)\n",
    "    "
   ]
  },
  {
   "cell_type": "code",
   "execution_count": 14,
   "id": "3ecd8dce",
   "metadata": {},
   "outputs": [
    {
     "name": "stdout",
     "output_type": "stream",
     "text": [
      "[1, 2, 3, 4, 5, 6, 7, 8, 9, 10]\n"
     ]
    }
   ],
   "source": [
    "m=[x for x in range(1,11)]\n",
    "print(m)"
   ]
  },
  {
   "cell_type": "code",
   "execution_count": 21,
   "id": "dee81f3b",
   "metadata": {},
   "outputs": [
    {
     "name": "stdout",
     "output_type": "stream",
     "text": [
      "[5, 10, 15, 20]\n"
     ]
    }
   ],
   "source": [
    "ls= list(range(1,21)) \n",
    "result=[x for x in ls if x%5==0]\n",
    "print(result)"
   ]
  },
  {
   "cell_type": "code",
   "execution_count": 22,
   "id": "b2e8af8f",
   "metadata": {},
   "outputs": [
    {
     "name": "stdout",
     "output_type": "stream",
     "text": [
      "[1, 8, 27, 64]\n"
     ]
    }
   ],
   "source": [
    "ls= list(range(1,5)) \n",
    "result=[x**3 for x in ls ]\n",
    "print(result)"
   ]
  },
  {
   "cell_type": "code",
   "execution_count": 24,
   "id": "f81c6b4b",
   "metadata": {},
   "outputs": [
    {
     "name": "stdout",
     "output_type": "stream",
     "text": [
      "[121, 100, 81, 64, 49, 36, 25, 16, 9, 4]\n"
     ]
    }
   ],
   "source": [
    "m=[x**2 for x in range(11,1,-1)]\n",
    "print(m)"
   ]
  },
  {
   "cell_type": "code",
   "execution_count": 4,
   "id": "3c442887",
   "metadata": {},
   "outputs": [
    {
     "name": "stdout",
     "output_type": "stream",
     "text": [
      "[4, 5, 5, 6, 6, 7]\n"
     ]
    }
   ],
   "source": [
    "ls=[1,2,3,4,5,5,6,6,7]\n",
    "ms=[]\n",
    "for i in ls[3:]:\n",
    "    (ms.append(i))\n",
    "print(ms)    "
   ]
  },
  {
   "cell_type": "code",
   "execution_count": 25,
   "id": "a5377afd",
   "metadata": {},
   "outputs": [
    {
     "name": "stdout",
     "output_type": "stream",
     "text": [
      "[4, 5, 5, 6, 6, 7]\n"
     ]
    }
   ],
   "source": [
    "m=([i for i in ls[3:]])\n",
    "print(m)"
   ]
  },
  {
   "cell_type": "code",
   "execution_count": 12,
   "id": "aaca83b1",
   "metadata": {},
   "outputs": [
    {
     "name": "stdout",
     "output_type": "stream",
     "text": [
      "My fav food:\n",
      "['burger', 'pizza', 'hotdog', 'saurma'] \n",
      "\n",
      "Your fav food:\n",
      "['burger', 'pizza', 'hotdog', 'saurma']\n"
     ]
    }
   ],
   "source": [
    "                                              #COPYING_LIST_[:]\n",
    "    \n",
    "i_want=[\"burger\",\"pizza\",\"hotdog\",\"saurma\"]\n",
    "you_want=i_want[:]\n",
    "\n",
    "print(\"My fav food:\")\n",
    "print(i_want,\"\\n\")\n",
    "print(\"Your fav food:\")\n",
    "print(you_want)\n",
    "    \n",
    "    "
   ]
  },
  {
   "cell_type": "code",
   "execution_count": 14,
   "id": "d1a80e98",
   "metadata": {},
   "outputs": [
    {
     "data": {
      "text/plain": [
       "['burger', 'pizza', 'hotdog', 'saurma', 'chickenfry']"
      ]
     },
     "execution_count": 14,
     "metadata": {},
     "output_type": "execute_result"
    }
   ],
   "source": [
    "i_want=you_want\n",
    "i_want.append(\"chickenfry\")\n",
    "you_want"
   ]
  },
  {
   "cell_type": "code",
   "execution_count": 15,
   "id": "1f1bedfd",
   "metadata": {},
   "outputs": [
    {
     "data": {
      "text/plain": [
       "['burger', 'pizza', 'hotdog', 'saurma', 'chickenfry']"
      ]
     },
     "execution_count": 15,
     "metadata": {},
     "output_type": "execute_result"
    }
   ],
   "source": [
    "i_want"
   ]
  },
  {
   "cell_type": "code",
   "execution_count": 18,
   "id": "786b2a62",
   "metadata": {},
   "outputs": [
    {
     "data": {
      "text/plain": [
       "('n', 'a', 'h')"
      ]
     },
     "execution_count": 18,
     "metadata": {},
     "output_type": "execute_result"
    }
   ],
   "source": [
    "                               #TUPLE(NOT_MUTABLE)\n",
    "    \n",
    "    \n",
    "name=(\"n\",\"a\",\"h\",\"i\",\"d\")\n",
    "name[:3]  "
   ]
  },
  {
   "cell_type": "code",
   "execution_count": 24,
   "id": "b7c7077b",
   "metadata": {},
   "outputs": [
    {
     "name": "stdout",
     "output_type": "stream",
     "text": [
      "Tripple Atat:\n",
      "England\n",
      "Russia\n",
      "France\n",
      "\n",
      "Powerful Treaty:\n",
      "Austro_hungary\n",
      "Ottoman\n",
      "Germany\n"
     ]
    }
   ],
   "source": [
    "t_a=(\"England\",\"Russia\",\"France\")\n",
    "print(\"Tripple Atat:\")\n",
    "for i in t_a:\n",
    "    print(i)\n",
    "p_t=(\"Austro_hungary\",\"Ottoman\",\"Germany\")    \n",
    "print(\"\\nPowerful Treaty:\")\n",
    "for i in p_t:\n",
    "    print(i)\n",
    "    \n",
    "    "
   ]
  },
  {
   "cell_type": "code",
   "execution_count": null,
   "id": "9151cfc4",
   "metadata": {},
   "outputs": [],
   "source": []
  },
  {
   "cell_type": "code",
   "execution_count": null,
   "id": "9ffaa2da",
   "metadata": {},
   "outputs": [],
   "source": []
  }
 ],
 "metadata": {
  "kernelspec": {
   "display_name": "Python 3 (ipykernel)",
   "language": "python",
   "name": "python3"
  },
  "language_info": {
   "codemirror_mode": {
    "name": "ipython",
    "version": 3
   },
   "file_extension": ".py",
   "mimetype": "text/x-python",
   "name": "python",
   "nbconvert_exporter": "python",
   "pygments_lexer": "ipython3",
   "version": "3.9.13"
  }
 },
 "nbformat": 4,
 "nbformat_minor": 5
}

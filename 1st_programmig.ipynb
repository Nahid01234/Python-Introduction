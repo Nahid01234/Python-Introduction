{
 "cells": [
  {
   "cell_type": "code",
   "execution_count": 2,
   "id": "7e6a1bd5",
   "metadata": {},
   "outputs": [
    {
     "name": "stdout",
     "output_type": "stream",
     "text": [
      "Love Python\n"
     ]
    }
   ],
   "source": [
    "                                     #STRINGS&VARIABLE\n",
    "print(\"Love Python\")\n"
   ]
  },
  {
   "cell_type": "code",
   "execution_count": 3,
   "id": "cbef8145",
   "metadata": {},
   "outputs": [
    {
     "data": {
      "text/plain": [
       "'Nahid Hassan'"
      ]
     },
     "execution_count": 3,
     "metadata": {},
     "output_type": "execute_result"
    }
   ],
   "source": [
    "name=\"Nahid Hassan\"\n",
    "name"
   ]
  },
  {
   "cell_type": "code",
   "execution_count": 4,
   "id": "72a54073",
   "metadata": {},
   "outputs": [
    {
     "data": {
      "text/plain": [
       "['Nahid', 'Hassan']"
      ]
     },
     "execution_count": 4,
     "metadata": {},
     "output_type": "execute_result"
    }
   ],
   "source": [
    "name.split( \" \")"
   ]
  },
  {
   "cell_type": "code",
   "execution_count": 5,
   "id": "9185b5cf",
   "metadata": {},
   "outputs": [
    {
     "data": {
      "text/plain": [
       "'h'"
      ]
     },
     "execution_count": 5,
     "metadata": {},
     "output_type": "execute_result"
    }
   ],
   "source": [
    "name[2]\n"
   ]
  },
  {
   "cell_type": "code",
   "execution_count": 6,
   "id": "ad3c4fc4",
   "metadata": {},
   "outputs": [
    {
     "data": {
      "text/plain": [
       "'Nhd'"
      ]
     },
     "execution_count": 6,
     "metadata": {},
     "output_type": "execute_result"
    }
   ],
   "source": [
    "name[:5:2]"
   ]
  },
  {
   "cell_type": "code",
   "execution_count": 7,
   "id": "bda1e3ec",
   "metadata": {},
   "outputs": [
    {
     "data": {
      "text/plain": [
       "' I have dream to be a Python Developer . So i work hard'"
      ]
     },
     "execution_count": 7,
     "metadata": {},
     "output_type": "execute_result"
    }
   ],
   "source": [
    "story=\"\"\" I have dream to be a Python Developer\\n.\n",
    "So i work hard\"\"\"\n",
    "story.replace(\"\\n\",\" \")"
   ]
  },
  {
   "cell_type": "code",
   "execution_count": 8,
   "id": "a7fbb257",
   "metadata": {},
   "outputs": [],
   "source": [
    "name=\"Nahid Hassan\"\n",
    "dream=\"be a Machine Learning Engineer\""
   ]
  },
  {
   "cell_type": "code",
   "execution_count": 9,
   "id": "c2878901",
   "metadata": {},
   "outputs": [
    {
     "data": {
      "text/plain": [
       "'My name is Nahid Hassan. I want to be a Machine Learning Engineer'"
      ]
     },
     "execution_count": 9,
     "metadata": {},
     "output_type": "execute_result"
    }
   ],
   "source": [
    "f\"My name is {name}. I want to {dream}\""
   ]
  },
  {
   "cell_type": "code",
   "execution_count": 31,
   "id": "9b9b7d0b",
   "metadata": {},
   "outputs": [
    {
     "data": {
      "text/plain": [
       "'MY NAME IS NAHID HASSAN.I WANT TO BE A MACHINE LEARNING ENGINEER'"
      ]
     },
     "execution_count": 31,
     "metadata": {},
     "output_type": "execute_result"
    }
   ],
   "source": [
    "\"My name is {}.I want to {}\".format(name,dream).upper()"
   ]
  },
  {
   "cell_type": "code",
   "execution_count": 12,
   "id": "67575eb6",
   "metadata": {},
   "outputs": [
    {
     "name": "stdout",
     "output_type": "stream",
     "text": [
      "Machine Learning Engineer\n"
     ]
    }
   ],
   "source": [
    "topic=\"Machine Learning\"\n",
    "tittle=\"Engineer\"\n",
    "\n",
    "a=topic+\" \"+tittle\n",
    "print(a)"
   ]
  },
  {
   "cell_type": "code",
   "execution_count": 11,
   "id": "c58798be",
   "metadata": {},
   "outputs": [
    {
     "data": {
      "text/plain": [
       "'I want to be a Machine Learning Engineer!!'"
      ]
     },
     "execution_count": 11,
     "metadata": {},
     "output_type": "execute_result"
    }
   ],
   "source": [
    "\"I want to be a \"+dream+\"!!\""
   ]
  },
  {
   "cell_type": "code",
   "execution_count": 12,
   "id": "ab25e70e",
   "metadata": {},
   "outputs": [
    {
     "name": "stdout",
     "output_type": "stream",
     "text": [
      "\tTopics:\n",
      "Python\n",
      "Math\n",
      "Libreries\n",
      "ML libreries\n",
      "ML topics\n",
      "Practice(eg.Kaggle)\n"
     ]
    }
   ],
   "source": [
    "details=\"\\tTopics:\\nPython\\nMath\\nLibreries\\nML libreries\\nML topics\\nPractice(eg.Kaggle)\"\n",
    "print(details)"
   ]
  },
  {
   "cell_type": "code",
   "execution_count": 56,
   "id": "9920ed38",
   "metadata": {},
   "outputs": [
    {
     "name": "stdout",
     "output_type": "stream",
     "text": [
      "Python Programmer\n"
     ]
    }
   ],
   "source": [
    "name=\"python programmer\"\n",
    "print(name.title())"
   ]
  },
  {
   "cell_type": "code",
   "execution_count": 14,
   "id": "db47894a",
   "metadata": {},
   "outputs": [
    {
     "data": {
      "text/plain": [
       "'Be a Machine Learning Engineer'"
      ]
     },
     "execution_count": 14,
     "metadata": {},
     "output_type": "execute_result"
    }
   ],
   "source": [
    "dream=\"   Be a Machine Learning Engineer   \"\n",
    "dream.strip()"
   ]
  },
  {
   "cell_type": "code",
   "execution_count": 26,
   "id": "1f60e91a",
   "metadata": {},
   "outputs": [
    {
     "data": {
      "text/plain": [
       "'I want to be a \"MACHINE LEARNING ENGNEER\"'"
      ]
     },
     "execution_count": 26,
     "metadata": {},
     "output_type": "execute_result"
    }
   ],
   "source": [
    "dream=\"I want to be a \\\"MACHINE LEARNING ENGNEER\\\"\"\n",
    "dream"
   ]
  },
  {
   "cell_type": "code",
   "execution_count": null,
   "id": "3da53269",
   "metadata": {},
   "outputs": [],
   "source": []
  },
  {
   "cell_type": "code",
   "execution_count": null,
   "id": "8f15a364",
   "metadata": {},
   "outputs": [],
   "source": []
  },
  {
   "cell_type": "code",
   "execution_count": null,
   "id": "d3b22b34",
   "metadata": {},
   "outputs": [],
   "source": []
  }
 ],
 "metadata": {
  "kernelspec": {
   "display_name": "Python 3 (ipykernel)",
   "language": "python",
   "name": "python3"
  },
  "language_info": {
   "codemirror_mode": {
    "name": "ipython",
    "version": 3
   },
   "file_extension": ".py",
   "mimetype": "text/x-python",
   "name": "python",
   "nbconvert_exporter": "python",
   "pygments_lexer": "ipython3",
   "version": "3.9.13"
  }
 },
 "nbformat": 4,
 "nbformat_minor": 5
}

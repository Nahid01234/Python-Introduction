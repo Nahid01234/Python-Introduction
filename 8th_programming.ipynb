{
 "cells": [
  {
   "cell_type": "markdown",
   "id": "eefa4fa8",
   "metadata": {},
   "source": [
    "### while loop"
   ]
  },
  {
   "cell_type": "code",
   "execution_count": null,
   "id": "7d8c6d36",
   "metadata": {},
   "outputs": [],
   "source": [
    "i=1\n",
    "while i <=10:\n",
    "    print(\"Hello World\")\n",
    "    i=i+2"
   ]
  },
  {
   "cell_type": "code",
   "execution_count": 23,
   "id": "e089899b",
   "metadata": {},
   "outputs": [
    {
     "name": "stdout",
     "output_type": "stream",
     "text": [
      "15\n"
     ]
    }
   ],
   "source": [
    "\n",
    "i=1\n",
    "sum=0\n",
    "while i<=5:\n",
    "    sum=sum+i\n",
    "    i+=1\n",
    "print(sum)    "
   ]
  },
  {
   "cell_type": "code",
   "execution_count": 24,
   "id": "6ea7cba3",
   "metadata": {},
   "outputs": [
    {
     "name": "stdout",
     "output_type": "stream",
     "text": [
      "enter the num:7\n",
      "28\n"
     ]
    }
   ],
   "source": [
    "n=int(input(\"enter the num:\"))\n",
    "i=1\n",
    "sum=0\n",
    "while i<=n:\n",
    "    sum=sum+i\n",
    "    i+=1\n",
    "print(sum)  "
   ]
  },
  {
   "cell_type": "code",
   "execution_count": 25,
   "id": "0c89d5fb",
   "metadata": {},
   "outputs": [
    {
     "name": "stdout",
     "output_type": "stream",
     "text": [
      "enter the num:9\n",
      " Now The Sum is: 1\n",
      " Now The Sum is: 3\n",
      " Now The Sum is: 6\n",
      " Now The Sum is: 10\n",
      " Now The Sum is: 15\n",
      " Now The Sum is: 21\n",
      " Now The Sum is: 28\n",
      " Now The Sum is: 36\n",
      " Now The Sum is: 45\n",
      "Finally the Sum is: 45\n"
     ]
    }
   ],
   "source": [
    "n=int(input(\"enter the num:\"))\n",
    "i=1\n",
    "sum=0\n",
    "while i<=n:\n",
    "    sum=sum+i\n",
    "    i+=1\n",
    "    print(\" Now The Sum is:\",(sum)) \n",
    "print(\"Finally the Sum is:\",sum)    "
   ]
  },
  {
   "cell_type": "code",
   "execution_count": 2,
   "id": "da10ec84",
   "metadata": {},
   "outputs": [
    {
     "name": "stdout",
     "output_type": "stream",
     "text": [
      "Nahid  Machine Learning Practioner  Machine Learning Practioner  Machine Learning Practioner  \n",
      "Nahid  Machine Learning Practioner  Machine Learning Practioner  Machine Learning Practioner  \n",
      "Nahid  Machine Learning Practioner  Machine Learning Practioner  Machine Learning Practioner  \n",
      "Nahid  Machine Learning Practioner  Machine Learning Practioner  Machine Learning Practioner  \n",
      "Nahid  Machine Learning Practioner  Machine Learning Practioner  Machine Learning Practioner  \n",
      "Nahid  Machine Learning Practioner  Machine Learning Practioner  Machine Learning Practioner  \n"
     ]
    }
   ],
   "source": [
    "i=0\n",
    "while i<=5:\n",
    "    print(\"Nahid \",end=\" \")\n",
    "    j=1\n",
    "    while j<=6:\n",
    "        print(\"Machine Learning Practioner \",end=\" \")\n",
    "        j+=2\n",
    "    i+=1    \n",
    "    print()\n",
    "    \n",
    "    "
   ]
  },
  {
   "cell_type": "code",
   "execution_count": null,
   "id": "e1c44d17",
   "metadata": {},
   "outputs": [],
   "source": []
  },
  {
   "cell_type": "code",
   "execution_count": 27,
   "id": "618e8cb1",
   "metadata": {},
   "outputs": [
    {
     "name": "stdout",
     "output_type": "stream",
     "text": [
      "Quit or Stay:quit\n"
     ]
    }
   ],
   "source": [
    "\n",
    "a=True\n",
    "while a:\n",
    "    massage=input(\"Quit or Stay:\")\n",
    "    \n",
    "    if massage==( \"quit\" ):\n",
    "        a=False\n",
    "    else:\n",
    "        print(\" Nahid Stays\")"
   ]
  },
  {
   "cell_type": "code",
   "execution_count": 28,
   "id": "a2647ee6",
   "metadata": {},
   "outputs": [
    {
     "name": "stdout",
     "output_type": "stream",
     "text": [
      "Quit or Stay:quit\n"
     ]
    }
   ],
   "source": [
    "\n",
    "a=True\n",
    "while a:\n",
    "    massage=input(\"Quit or Stay:\")\n",
    "    \n",
    "    if massage==( \"quit\" ):\n",
    "        break\n",
    "    else:\n",
    "        print(\" Nahid Stays\")"
   ]
  },
  {
   "cell_type": "code",
   "execution_count": 29,
   "id": "18a9c40c",
   "metadata": {},
   "outputs": [
    {
     "name": "stdout",
     "output_type": "stream",
     "text": [
      "1\n",
      "2\n",
      "3\n",
      "4\n",
      "5\n",
      "6\n",
      "7\n",
      "8\n",
      "9\n"
     ]
    }
   ],
   "source": [
    "i=1\n",
    "while i<=20:\n",
    "   \n",
    "    if i==10:\n",
    "        break\n",
    "    print(i)\n",
    "    i+=1  "
   ]
  },
  {
   "cell_type": "code",
   "execution_count": 30,
   "id": "2ef2b832",
   "metadata": {},
   "outputs": [
    {
     "name": "stdout",
     "output_type": "stream",
     "text": [
      "1\n",
      "2\n",
      "3\n",
      "4\n",
      "5\n",
      "6\n",
      "7\n",
      "8\n",
      "9\n"
     ]
    }
   ],
   "source": [
    "i=1\n",
    "while i<=20:\n",
    "    print(i)\n",
    "    i+=1\n",
    "    if i==10:\n",
    "        break\n",
    "    "
   ]
  },
  {
   "cell_type": "code",
   "execution_count": 31,
   "id": "f4a9b260",
   "metadata": {},
   "outputs": [
    {
     "name": "stdout",
     "output_type": "stream",
     "text": [
      "1\n",
      "2\n",
      "3\n",
      "4\n",
      "5\n",
      "6\n",
      "7\n",
      "8\n",
      "9\n"
     ]
    }
   ],
   "source": [
    "\n",
    "for i in range(1,20):\n",
    "    \n",
    "    if i==10:\n",
    "        break\n",
    "    print(i)\n",
    "    "
   ]
  },
  {
   "cell_type": "code",
   "execution_count": 3,
   "id": "adba01b5",
   "metadata": {},
   "outputs": [
    {
     "name": "stdout",
     "output_type": "stream",
     "text": [
      "Enter the pizza topping:sausage\n",
      "Thanks!! Add sausage to your pizza\n",
      "Enter the pizza topping:masroom\n",
      "Thanks!! Add masroom to your pizza\n",
      "Enter the pizza topping:quit\n"
     ]
    }
   ],
   "source": [
    "a=True\n",
    "while a:\n",
    "    topping=input(\"Enter the pizza topping:\")\n",
    "    if topping==\"quit\":\n",
    "        break\n",
    "    else:\n",
    "        print(\"Thanks!! Add \"+topping+\" to your pizza\")"
   ]
  },
  {
   "cell_type": "code",
   "execution_count": 59,
   "id": "1a510826",
   "metadata": {},
   "outputs": [
    {
     "name": "stdout",
     "output_type": "stream",
     "text": [
      "enter your age:80\n"
     ]
    }
   ],
   "source": [
    "a=True\n",
    "while a:\n",
    "    age=float(input(\"enter your age:\"))\n",
    "    if age < 3:\n",
    "        print(\"ticket is free\")\n",
    "    elif age>=3 and age<=12:\n",
    "        print(\"ticket is $10\")\n",
    "    elif age>12 and age<50:\n",
    "        print(\"ticket is $15\")    \n",
    "    elif age>50:\n",
    "         a=False\n",
    "        \n",
    "        \n",
    "        \n",
    "        \n",
    "        "
   ]
  },
  {
   "cell_type": "code",
   "execution_count": 70,
   "id": "b1965302",
   "metadata": {},
   "outputs": [
    {
     "name": "stdout",
     "output_type": "stream",
     "text": [
      "Varyfing user :Nole\n",
      "Varyfing user :Ross\n",
      "Varyfing user :Litham\n",
      "Varyfing user :Brayan\n",
      "\n",
      "Following are now varified users:\n",
      "Nole\n",
      "Ross\n",
      "Litham\n",
      "Brayan\n"
     ]
    }
   ],
   "source": [
    "unvarified_users=[\"Brayan\",\"Litham\",\"Ross\",\"Nole\"]\n",
    "varified_users=[]\n",
    "while unvarified_users:\n",
    "    i=unvarified_users.pop()\n",
    "    print(\"Varyfing user :\"+i.title())\n",
    "    varified_users.append(i)\n",
    "print(\"\\nFollowing are now varified users:\")    \n",
    "for i in varified_users:\n",
    "    print(i)\n",
    "    "
   ]
  },
  {
   "cell_type": "code",
   "execution_count": 4,
   "id": "657157ed",
   "metadata": {},
   "outputs": [
    {
     "name": "stdout",
     "output_type": "stream",
     "text": [
      "What is your name?Nahid\n",
      "Which mountain would you like to climb?Alps\n",
      "Would you like to let another person?Yes\n",
      "Yes\n",
      "What is your name?Niloy\n",
      "Which mountain would you like to climb?Mount Evarest\n",
      "Would you like to let another person?no\n",
      "\n",
      "-------Final Result---------\n",
      "Nahid likes to climb Alps\n",
      "Niloy likes to climb Mount Evarest\n"
     ]
    }
   ],
   "source": [
    "d_n={}\n",
    "a=True\n",
    "while a:\n",
    "    name=input(\"What is your name?\")\n",
    "    interest=input(\"Which mountain would you like to climb?\")\n",
    "    d_n[name]=interest\n",
    "    response=input(\"Would you like to let another person?\")\n",
    "    if response==\"no\":\n",
    "        a=False\n",
    "    else:\n",
    "        print(response)\n",
    "print(\"\\n-------Final Result---------\")\n",
    "for name,interest in d_n.items():\n",
    "    print(name+\" likes to climb \"+interest)\n",
    "        \n",
    "    "
   ]
  },
  {
   "cell_type": "code",
   "execution_count": 1,
   "id": "a60fec3c",
   "metadata": {},
   "outputs": [
    {
     "name": "stdout",
     "output_type": "stream",
     "text": [
      "I made your halapino sandwich\n",
      "I made your beef sandwich\n",
      "I made your sausage sandwich\n",
      "I made your tuna sandwich\n",
      "\n",
      "Lists of all sandwichs:\n",
      "halapino sandwich\n",
      "beef sandwich\n",
      "sausage sandwich\n",
      "tuna sandwich\n"
     ]
    }
   ],
   "source": [
    "sandwich_orders=[\"tuna sandwich\",\"sausage sandwich\",\"beef sandwich\",\"halapino sandwich\"]\n",
    "finished_sandwich=[]\n",
    "while sandwich_orders:\n",
    "    a=sandwich_orders.pop()\n",
    "    print(\"I made your \"+a)\n",
    "    finished_sandwich.append(a)\n",
    "print(\"\\nLists of all sandwichs:\")    \n",
    "for i in finished_sandwich:\n",
    "    print(i)\n",
    "    \n",
    "    "
   ]
  },
  {
   "cell_type": "code",
   "execution_count": 32,
   "id": "a5a5de46",
   "metadata": {},
   "outputs": [
    {
     "name": "stdout",
     "output_type": "stream",
     "text": [
      "Run out all of pastrami\n",
      "\n",
      "I made your halapino sandwich\n",
      "I made your beef sandwich\n",
      "I made your sausage sandwich\n",
      "I made your tuna sandwich\n",
      "\n",
      "Lists of all sandwichs:\n",
      "halapino sandwich\n",
      "beef sandwich\n",
      "sausage sandwich\n",
      "tuna sandwich\n"
     ]
    }
   ],
   "source": [
    "sandwich_orders=[\"tuna sandwich\",\"sausage sandwich\",\"beef sandwich\",\"halapino sandwich\",\"pastrami\",\"pastrami\",\"pastrami\"]\n",
    "finished_sandwich=[]\n",
    "print(\"Run out all of pastrami\\n\")\n",
    "while sandwich_orders:\n",
    "    \n",
    "    while \"pastrami\" in sandwich_orders:\n",
    "        sandwich_orders.remove(\"pastrami\")\n",
    "    a=sandwich_orders.pop()\n",
    "    print(\"I made your \"+a)\n",
    "    finished_sandwich.append(a)\n",
    "print(\"\\nLists of all sandwichs:\")    \n",
    "for i in finished_sandwich:\n",
    "    print(i)"
   ]
  },
  {
   "cell_type": "code",
   "execution_count": null,
   "id": "1282a98a",
   "metadata": {},
   "outputs": [],
   "source": []
  },
  {
   "cell_type": "code",
   "execution_count": null,
   "id": "b3a45dbd",
   "metadata": {},
   "outputs": [],
   "source": []
  },
  {
   "cell_type": "code",
   "execution_count": null,
   "id": "8d7e7581",
   "metadata": {},
   "outputs": [],
   "source": []
  }
 ],
 "metadata": {
  "kernelspec": {
   "display_name": "Python 3 (ipykernel)",
   "language": "python",
   "name": "python3"
  },
  "language_info": {
   "codemirror_mode": {
    "name": "ipython",
    "version": 3
   },
   "file_extension": ".py",
   "mimetype": "text/x-python",
   "name": "python",
   "nbconvert_exporter": "python",
   "pygments_lexer": "ipython3",
   "version": "3.9.13"
  }
 },
 "nbformat": 4,
 "nbformat_minor": 5
}

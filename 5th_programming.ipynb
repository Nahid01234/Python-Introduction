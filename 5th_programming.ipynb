{
 "cells": [
  {
   "cell_type": "code",
   "execution_count": 9,
   "id": "2258fe1b",
   "metadata": {},
   "outputs": [
    {
     "name": "stdout",
     "output_type": "stream",
     "text": [
      "Enter the a:1\n",
      "Enter the b:2\n",
      "b is large\n"
     ]
    }
   ],
   "source": [
    "                        #IF_STATEMENTS\n",
    "\n",
    "a=int(input(\"Enter the a:\"))\n",
    "b=int(input(\"Enter the b:\"))\n",
    "if a>b:\n",
    "    print(\"a is large\")\n",
    "else:\n",
    "     print(\"b is large\")\n",
    "\n"
   ]
  },
  {
   "cell_type": "code",
   "execution_count": 10,
   "id": "f7703088",
   "metadata": {},
   "outputs": [
    {
     "name": "stdout",
     "output_type": "stream",
     "text": [
      "Enter the m:3\n",
      "Enter the n:3\n",
      "Enter the r:3\n"
     ]
    }
   ],
   "source": [
    "m=int(input(\"Enter the m:\"))\n",
    "n=int(input(\"Enter the n:\"))\n",
    "r=int(input(\"Enter the r:\"))\n",
    "if m>n:\n",
    "    if m>r:\n",
    "        print(\"m is the largest\")\n",
    "    else: \n",
    "        print(\"r is the largest\")\n",
    "        \n",
    "elif n>m:\n",
    "    if n>r:\n",
    "        print(\"n is the largest\")\n",
    "    else:\n",
    "        print(\"r is the largest\")"
   ]
  },
  {
   "cell_type": "code",
   "execution_count": 11,
   "id": "2863f776",
   "metadata": {},
   "outputs": [
    {
     "name": "stdout",
     "output_type": "stream",
     "text": [
      "Enter the m:2\n",
      "Enter the n:3\n",
      "Enter the r:4\n",
      "r is the largest\n"
     ]
    }
   ],
   "source": [
    "m=int(input(\"Enter the m:\"))\n",
    "n=int(input(\"Enter the n:\"))\n",
    "r=int(input(\"Enter the r:\"))\n",
    "if m>n and m>r:\n",
    "    print(\"m is the largest\")\n",
    "elif n>m and n>r:\n",
    "    print(\"n is the largest\")\n",
    "else:\n",
    "     print(\"r is the largest\")"
   ]
  },
  {
   "cell_type": "code",
   "execution_count": 12,
   "id": "a071fc2d",
   "metadata": {},
   "outputs": [
    {
     "name": "stdout",
     "output_type": "stream",
     "text": [
      "London is the hub of Europe\n",
      "Berlin is also good\n",
      "Paris is also good\n",
      "Munich is also good\n"
     ]
    }
   ],
   "source": [
    "city=[\"London\",\"Berlin\",\"Paris\",\"Munich\"]\n",
    "for i in city:\n",
    "    if i==\"London\":\n",
    "        print(i+\" is the hub of Europe\")\n",
    "    else:\n",
    "        print(i+\" is also good\")\n",
    "        \n",
    "        \n",
    "        \n",
    "        "
   ]
  },
  {
   "cell_type": "code",
   "execution_count": 13,
   "id": "06544d6f",
   "metadata": {},
   "outputs": [
    {
     "data": {
      "text/plain": [
       "True"
      ]
     },
     "execution_count": 13,
     "metadata": {},
     "output_type": "execute_result"
    }
   ],
   "source": [
    "city[0].lower()==\"london\"\n"
   ]
  },
  {
   "cell_type": "code",
   "execution_count": 14,
   "id": "61b39dcd",
   "metadata": {},
   "outputs": [
    {
     "name": "stdout",
     "output_type": "stream",
     "text": [
      "Is m==10? I predict True.\n",
      "True\n",
      "\n",
      " Is m==11? I predict False. \n",
      "False\n"
     ]
    }
   ],
   "source": [
    "m=10\n",
    "print(\"Is m==10? I predict True.\")\n",
    "print(m==10)\n",
    "print(\"\\n Is m==11? I predict False. \")\n",
    "print(m==11)\n",
    "\n",
    "\n",
    "\n",
    "\n"
   ]
  },
  {
   "cell_type": "code",
   "execution_count": 15,
   "id": "6261435d",
   "metadata": {},
   "outputs": [
    {
     "name": "stdout",
     "output_type": "stream",
     "text": [
      "enter weight:34\n",
      "You will get 300 taka bonus\n"
     ]
    }
   ],
   "source": [
    "meat_weight=int(input(\"enter weight:\"))\n",
    "if meat_weight < 2:\n",
    "    bonus=100\n",
    "elif meat_weight <10:\n",
    "    bonus=200\n",
    "else:\n",
    "    bonus=300\n",
    "    \n",
    "print(\"You will get \"+str(bonus)+\" taka bonus\")    \n",
    "    \n",
    "    "
   ]
  },
  {
   "cell_type": "code",
   "execution_count": 17,
   "id": "3ec25289",
   "metadata": {},
   "outputs": [
    {
     "name": "stdout",
     "output_type": "stream",
     "text": [
      "enter the age:66\n",
      " you are a elder\n"
     ]
    }
   ],
   "source": [
    "age=int(input(\"enter the age:\"))\n",
    "if age<2:\n",
    "    print(\" you are a baby\")\n",
    "elif age>=2 and age<4:\n",
    "    print(\" you are a toddler\")\n",
    "elif age>=4 and age<13:\n",
    "    print(\" you are a kid\")\n",
    "elif age>=13 and age<20:\n",
    "    print(\" you are a teenager\")\n",
    "elif age>=20 and age<65:\n",
    "    print(\" you are a adult\")\n",
    "\n",
    "else:\n",
    "    print(\" you are a elder\")\n"
   ]
  },
  {
   "cell_type": "code",
   "execution_count": null,
   "id": "e80f05a1",
   "metadata": {},
   "outputs": [],
   "source": [
    "\n"
   ]
  },
  {
   "cell_type": "code",
   "execution_count": null,
   "id": "5a14327e",
   "metadata": {},
   "outputs": [],
   "source": [
    "\n",
    "\n"
   ]
  },
  {
   "cell_type": "code",
   "execution_count": null,
   "id": "38ccabdf",
   "metadata": {},
   "outputs": [],
   "source": [
    "\n"
   ]
  },
  {
   "cell_type": "code",
   "execution_count": null,
   "id": "6671cea9",
   "metadata": {},
   "outputs": [],
   "source": []
  },
  {
   "cell_type": "code",
   "execution_count": null,
   "id": "28153d14",
   "metadata": {},
   "outputs": [],
   "source": []
  },
  {
   "cell_type": "code",
   "execution_count": null,
   "id": "dfcd0b71",
   "metadata": {},
   "outputs": [],
   "source": []
  },
  {
   "cell_type": "code",
   "execution_count": null,
   "id": "c0935d3b",
   "metadata": {},
   "outputs": [],
   "source": []
  },
  {
   "cell_type": "code",
   "execution_count": null,
   "id": "7694a424",
   "metadata": {},
   "outputs": [],
   "source": []
  },
  {
   "cell_type": "code",
   "execution_count": null,
   "id": "b3496f64",
   "metadata": {},
   "outputs": [],
   "source": []
  },
  {
   "cell_type": "code",
   "execution_count": null,
   "id": "3fbe96fb",
   "metadata": {},
   "outputs": [],
   "source": []
  }
 ],
 "metadata": {
  "kernelspec": {
   "display_name": "Python 3 (ipykernel)",
   "language": "python",
   "name": "python3"
  },
  "language_info": {
   "codemirror_mode": {
    "name": "ipython",
    "version": 3
   },
   "file_extension": ".py",
   "mimetype": "text/x-python",
   "name": "python",
   "nbconvert_exporter": "python",
   "pygments_lexer": "ipython3",
   "version": "3.9.13"
  }
 },
 "nbformat": 4,
 "nbformat_minor": 5
}

{
 "cells": [
  {
   "cell_type": "code",
   "execution_count": 2,
   "id": "74189089",
   "metadata": {},
   "outputs": [
    {
     "data": {
      "text/plain": [
       "{'name': 'Rifat', 'age': 23, 'gender': 'male', 1: 'a', 2: 'b'}"
      ]
     },
     "execution_count": 2,
     "metadata": {},
     "output_type": "execute_result"
    }
   ],
   "source": [
    "                                   #DICTIONARIES  \n",
    "table={1:\"a\",2:\"b\"}    \n",
    "information={\"name\":\"Nahid\",\"age\":23,\"gender\":\"male\"}\n",
    "information.update(table)\n",
    "information    \n",
    "information[\"name\"]=\"Rifat\"\n",
    "information"
   ]
  },
  {
   "cell_type": "code",
   "execution_count": 3,
   "id": "5a327b07",
   "metadata": {},
   "outputs": [
    {
     "data": {
      "text/plain": [
       "'Rifat'"
      ]
     },
     "execution_count": 3,
     "metadata": {},
     "output_type": "execute_result"
    }
   ],
   "source": [
    "(information[\"name\"])\n"
   ]
  },
  {
   "cell_type": "code",
   "execution_count": 5,
   "id": "d3a031fb",
   "metadata": {},
   "outputs": [
    {
     "name": "stdout",
     "output_type": "stream",
     "text": [
      "I amRifat!!!\n"
     ]
    }
   ],
   "source": [
    "n=information[\"name\"]\n",
    "na=\"I am\"+n+\"!!!\"\n",
    "print(na)"
   ]
  },
  {
   "cell_type": "code",
   "execution_count": 12,
   "id": "cd6039f5",
   "metadata": {},
   "outputs": [
    {
     "data": {
      "text/plain": [
       "{'name': 'Rifat',\n",
       " 'age': 23,\n",
       " 'gender': 'male',\n",
       " 1: 'a',\n",
       " 2: 'b',\n",
       " 'hometown': 'Birampur',\n",
       " 'dream': 'Be a ML Practioner'}"
      ]
     },
     "execution_count": 12,
     "metadata": {},
     "output_type": "execute_result"
    }
   ],
   "source": [
    "information[\"hometown\"]=\"Birampur\"\n",
    "information[\"dream\"]=\"Be a ML Practioner\"\n",
    "information"
   ]
  },
  {
   "cell_type": "code",
   "execution_count": 13,
   "id": "36fd2b50",
   "metadata": {},
   "outputs": [
    {
     "data": {
      "text/plain": [
       "{'meaning': 'Machine Learning Engineer', 'popularity': 'Very High'}"
      ]
     },
     "execution_count": 13,
     "metadata": {},
     "output_type": "execute_result"
    }
   ],
   "source": [
    "ml_e={}\n",
    "ml_e[\"meaning\"]=\"Machine Learning Engineer\"\n",
    "ml_e[\"popularity\"]=\"Very High\"\n",
    "ml_e"
   ]
  },
  {
   "cell_type": "code",
   "execution_count": 14,
   "id": "7342d34e",
   "metadata": {},
   "outputs": [
    {
     "data": {
      "text/plain": [
       "{'meaning': 'Deep Learning Engineer', 'popularity': 'Also Very High'}"
      ]
     },
     "execution_count": 14,
     "metadata": {},
     "output_type": "execute_result"
    }
   ],
   "source": [
    "ml_e[\"meaning\"]=\"Deep Learning Engineer\"\n",
    "ml_e[\"popularity\"]=\"Also Very High\"\n",
    "ml_e"
   ]
  },
  {
   "cell_type": "code",
   "execution_count": 6,
   "id": "708f7220",
   "metadata": {},
   "outputs": [
    {
     "name": "stdout",
     "output_type": "stream",
     "text": [
      "Original_x_position: 2\n",
      "Original_y_position: 3\n",
      "\n",
      "New_x_position: 5\n",
      "New_y_position: 6\n"
     ]
    }
   ],
   "source": [
    "snake_game={\"color\":\"green\",\"x_pos\":2,\"y_pos\":3,\"speed\":\"medium\"}\n",
    "print(\"Original_x_position: \"+str(snake_game[\"x_pos\"]))\n",
    "print(\"Original_y_position: \"+str(snake_game[\"y_pos\"]))\n",
    "#now we will calculate original position by using conditinal\n",
    "\n",
    "if snake_game[\"speed\"]==\"high\": \n",
    "      new_pos=5\n",
    "elif snake_game[\"speed\"]==\"low\":       \n",
    "      new_pos=2\n",
    "else:\n",
    "      new_pos=3\n",
    "      \n",
    "new_x_position=snake_game[\"x_pos\"] +new_pos    \n",
    "new_y_position=snake_game[\"y_pos\"] +new_pos\n",
    "print(\"\\nNew_x_position: \"+str(new_x_position)) \n",
    "print(\"New_y_position: \"+str(new_y_position) )     "
   ]
  },
  {
   "cell_type": "code",
   "execution_count": 16,
   "id": "2b84e9c8",
   "metadata": {},
   "outputs": [
    {
     "data": {
      "text/plain": [
       "{'name': 'Rifat',\n",
       " 'age': 23,\n",
       " 'gender': 'male',\n",
       " 1: 'a',\n",
       " 2: 'b',\n",
       " 'hometown': 'Birampur',\n",
       " 'dream': 'Be a ML Practioner'}"
      ]
     },
     "execution_count": 16,
     "metadata": {},
     "output_type": "execute_result"
    }
   ],
   "source": [
    "information"
   ]
  },
  {
   "cell_type": "code",
   "execution_count": 9,
   "id": "e4417d16",
   "metadata": {},
   "outputs": [
    {
     "name": "stdout",
     "output_type": "stream",
     "text": [
      "The Key: name\n",
      "The value: Rifat \n",
      "\n",
      "The Key: age\n",
      "The value: 23 \n",
      "\n",
      "The Key: gender\n",
      "The value: male \n",
      "\n",
      "The Key: 1\n",
      "The value: a \n",
      "\n",
      "The Key: 2\n",
      "The value: b \n",
      "\n"
     ]
    }
   ],
   "source": [
    "for i,j in information.items():\n",
    "    print(\"The Key:\",str(i))\n",
    "    print(\"The value:\",str(j),\"\\n\")"
   ]
  },
  {
   "cell_type": "code",
   "execution_count": 21,
   "id": "9b068854",
   "metadata": {},
   "outputs": [
    {
     "name": "stdout",
     "output_type": "stream",
     "text": [
      "Sara loves practicing C++\n",
      "Adam loves practicing Java\n",
      "Ryan loves practicing Python\n",
      "Cris loves practicing Ruby\n"
     ]
    }
   ],
   "source": [
    "fav_language={\"Sara\":\"C++\", \n",
    "              \"Adam\":\"Java\",\n",
    "              \"Ryan\":\"Python\",\n",
    "              \"Cris\":\"Ruby\" }\n",
    "             \n",
    "for i ,j in fav_language.items():\n",
    "    print(i.title()+\" loves practicing \"+j.title())\n",
    "            \n",
    "            \n"
   ]
  },
  {
   "cell_type": "code",
   "execution_count": 22,
   "id": "94fe99a3",
   "metadata": {},
   "outputs": [
    {
     "name": "stdout",
     "output_type": "stream",
     "text": [
      "Keep practicing Sara!!\n",
      "Keep practicing Adam!!\n",
      "Keep practicing Ryan!!\n",
      "Keep practicing Cris!!\n"
     ]
    }
   ],
   "source": [
    "for i in list(fav_language.keys()):\n",
    "        print(\"Keep practicing \"+i+\"!!\")\n",
    "     "
   ]
  },
  {
   "cell_type": "code",
   "execution_count": 23,
   "id": "55879fa2",
   "metadata": {},
   "outputs": [
    {
     "name": "stdout",
     "output_type": "stream",
     "text": [
      "\n",
      "Keep learning ,you have a great choise\n",
      "\n",
      "Keep learning ,you have a great choise\n",
      "\n",
      "Congrats!! you are learning great p.language\n",
      "\n",
      "Keep learning ,you have a great choise\n"
     ]
    }
   ],
   "source": [
    " for i in (fav_language.values()):\n",
    "        if i==\"Python\":\n",
    "            print(\"\\nCongrats!! you are learning great p.language\")\n",
    "        else:\n",
    "            print(\"\\nKeep learning ,you have a great choise\")"
   ]
  },
  {
   "cell_type": "code",
   "execution_count": 24,
   "id": "831ba4aa",
   "metadata": {},
   "outputs": [
    {
     "name": "stdout",
     "output_type": "stream",
     "text": [
      "The Nile runs through Egypt\n",
      "The Amazon runs through Brazil\n",
      "The Jamuna runs through Bangladesh\n"
     ]
    }
   ],
   "source": [
    "major_rivers={\"Nile\":\"Egypt\",\n",
    "              \"Amazon\":\"Brazil\",\n",
    "              \"Jamuna\":\"Bangladesh\"}\n",
    "for i,j in (major_rivers.items()):\n",
    "    print(\"The \"+i.title()+\" runs through \"+j.title())\n"
   ]
  },
  {
   "cell_type": "code",
   "execution_count": 25,
   "id": "960f7929",
   "metadata": {},
   "outputs": [
    {
     "name": "stdout",
     "output_type": "stream",
     "text": [
      "Nile\n",
      "Amazon\n",
      "Jamuna\n"
     ]
    }
   ],
   "source": [
    "for i in (major_rivers.keys()):\n",
    "    print(i)"
   ]
  },
  {
   "cell_type": "code",
   "execution_count": 26,
   "id": "7a15d68a",
   "metadata": {},
   "outputs": [
    {
     "name": "stdout",
     "output_type": "stream",
     "text": [
      "Egypt\n",
      "Brazil\n",
      "Bangladesh\n"
     ]
    }
   ],
   "source": [
    "for i in list(major_rivers.values()):\n",
    "    print(i)"
   ]
  },
  {
   "cell_type": "code",
   "execution_count": 70,
   "id": "806a86cd",
   "metadata": {},
   "outputs": [
    {
     "name": "stdout",
     "output_type": "stream",
     "text": [
      "Thanks!! for your responding.\n",
      "Sorry!! you have not responded yet\n",
      "Sorry!! you have not responded yet\n",
      "Thanks!! for your responding.\n"
     ]
    }
   ],
   "source": [
    "f_lan={\"Nahid\":\"Python\",\"Niloy\":\"C++\"}\n",
    "people=[\"Nahid\",\"Sajid\",\"Mahamud\",\"Niloy\"]\n",
    "for i in people:\n",
    "    if i in list(f_lan.keys()):\n",
    "        print(\"Thanks!! for your responding.\")\n",
    "    else: \n",
    "        print(\"Sorry!! you have not responded yet\")\n"
   ]
  },
  {
   "cell_type": "code",
   "execution_count": 7,
   "id": "934b2a54",
   "metadata": {},
   "outputs": [
    {
     "data": {
      "text/plain": [
       "[{'Nahid': 'Python', 'Niloy': 'C++'},\n",
       " {'Nahid': 'Python', 'Niloy': 'C++'},\n",
       " {'Nahid': 'Python', 'Niloy': 'C++'},\n",
       " {'Nahid': 'Python', 'Niloy': 'C++'},\n",
       " {'Nahid': 'Python', 'Niloy': 'C++'}]"
      ]
     },
     "execution_count": 7,
     "metadata": {},
     "output_type": "execute_result"
    }
   ],
   "source": [
    "name=[]\n",
    "for j in range(5):\n",
    "    i={\"Nahid\":\"Python\",\"Niloy\":\"C++\"}\n",
    "    name.append(i)\n",
    "name    "
   ]
  },
  {
   "cell_type": "code",
   "execution_count": 14,
   "id": "2f2f1c3d",
   "metadata": {},
   "outputs": [
    {
     "name": "stdout",
     "output_type": "stream",
     "text": [
      "YOU ORDERED A THICKED-CRUST PIZZA WITH THE FOLLOWING TOPPING:\n",
      "\tMUSHROOM\n",
      "\tSAUSAGE\n"
     ]
    }
   ],
   "source": [
    "pizza ={\"crust\":\"thicked\",\"topping\":[\"mushroom\",\"sausage\"]}\n",
    "print(\"You ordered a \".upper()+pizza[\"crust\"].upper()+\"-crust pizza with the following topping:\".upper())\n",
    "for i in pizza[\"topping\"]:\n",
    "    print(\"\\t\"+i.upper())"
   ]
  },
  {
   "cell_type": "code",
   "execution_count": 39,
   "id": "0c2cfdb4",
   "metadata": {},
   "outputs": [
    {
     "name": "stdout",
     "output_type": "stream",
     "text": [
      "\n",
      "Jason's favorite languages are:\n",
      "\tC++\n",
      "\tPython\n",
      "\n",
      "Roy's favorite languages are:\n",
      "\tC\n",
      "\tRuby\n",
      "\n",
      "Henry's favorite languages are:\n",
      "\tJavscript\n",
      "\tJava\n",
      "\n",
      "Heama's favorite language is:\n",
      "\tHTML\n"
     ]
    }
   ],
   "source": [
    "favorite_p_language={\"Jason\":[\"C++\",\"Python\"],\n",
    "                    \"Roy\":[\"C\",\"Ruby\"],\n",
    "                    \"Henry\":[\"Javscript\",\"Java\"],\n",
    "                    \"Heama\":[\"HTML\"]}\n",
    "for i,j in favorite_p_language.items():\n",
    "    if len(j)<2:\n",
    "            print(\"\\n\"+i+\"\\'s favorite language is:\")\n",
    "    else:\n",
    "            print(\"\\n\"+(i)+\"\\'s favorite languages are:\")\n",
    "    for k in j:\n",
    "        \n",
    "        print(\"\\t\"+k)"
   ]
  },
  {
   "cell_type": "code",
   "execution_count": 37,
   "id": "9b52acb1",
   "metadata": {},
   "outputs": [
    {
     "name": "stdout",
     "output_type": "stream",
     "text": [
      "\n",
      "Username: nahidh\n",
      "\tFirst name: Nahid\n",
      "\tLast name: Rifat\n",
      "\tHome Town: Dinajpur\n",
      "\n",
      "Username: niloyr\n",
      "\tFirst name: Nafisur\n",
      "\tLast name: Niloy\n",
      "\tHome Town: Tangail\n",
      "\n",
      "Username: sajids\n",
      "\tFirst name: Soyeb\n",
      "\tLast name: Sajid\n",
      "\tHome Town: Jamalpur\n",
      "\n",
      "Username: mahamudm\n",
      "\tFirst name: Mahamud\n",
      "\tLast name: Hassan\n",
      "\tHome Town: Rangpur\n"
     ]
    }
   ],
   "source": [
    "information={\"nahidh\":{\"f_name\":\"Nahid\",\"l_name\":\"Rifat\",\"home\":\"Dinajpur\"},\n",
    "             \"niloyr\":{\"f_name\":\"Nafisur\",\"l_name\":\"Niloy\",\"home\":\"Tangail\"},\n",
    "             \"sajids\":{\"f_name\":\"Soyeb\",\"l_name\":\"Sajid\",\"home\":\"Jamalpur\"},\n",
    "             \"mahamudm\":{\"f_name\":\"Mahamud\",\"l_name\":\"Hassan\",\"home\":\"Rangpur\"}\n",
    "}\n",
    "for i,j in information.items():\n",
    "    print(\"\\nUsername: \"+i)\n",
    "    print(\"\\tFirst name: \"+j[\"f_name\"]) \n",
    "    print(\"\\tLast name: \"+j[\"l_name\"]) \n",
    "    print(\"\\tHome Town: \"+j[\"home\"]) "
   ]
  },
  {
   "cell_type": "code",
   "execution_count": 5,
   "id": "e983dbde",
   "metadata": {},
   "outputs": [
    {
     "data": {
      "text/plain": [
       "[{'cat': {'k_o_a=': 'playful', 'onwer_name': 'Jack'}},\n",
       " {'dog': {'k_o_a': 'very alert', 'owner_name': 'Ricky'}}]"
      ]
     },
     "execution_count": 5,
     "metadata": {},
     "output_type": "execute_result"
    }
   ],
   "source": [
    "information=[{\"cat\":{\"k_o_a=\":\"playful\",\"onwer_name\":\"Jack\"}},{\"dog\":{\"k_o_a\":\"very alert\",\"owner_name\":\"Ricky\"}}]\n",
    "information"
   ]
  },
  {
   "cell_type": "code",
   "execution_count": 13,
   "id": "ed323f3b",
   "metadata": {},
   "outputs": [
    {
     "name": "stdout",
     "output_type": "stream",
     "text": [
      "Cats are very playful\n"
     ]
    }
   ],
   "source": [
    "print(\"Cats are very \"+information[0][\"cat\"][\"k_o_a=\"])\n",
    "    "
   ]
  },
  {
   "cell_type": "code",
   "execution_count": 38,
   "id": "a6d201bb",
   "metadata": {},
   "outputs": [
    {
     "name": "stdout",
     "output_type": "stream",
     "text": [
      "Cats are playful\n",
      "Jack is the owner of cats\n"
     ]
    }
   ],
   "source": [
    "for i in information[0][\"cat\"].values():\n",
    "    if i==\"Jack\":\n",
    "        print(i+\" is the owner of cats\")\n",
    "    else:\n",
    "        print( \"Cats are \"+ i)\n",
    "   \n",
    "    "
   ]
  },
  {
   "cell_type": "code",
   "execution_count": 39,
   "id": "b4b7901b",
   "metadata": {},
   "outputs": [
    {
     "name": "stdout",
     "output_type": "stream",
     "text": [
      "Dogs are very alert\n",
      "Ricky is the owner of dogs\n"
     ]
    }
   ],
   "source": [
    "for i in information[1][\"dog\"].values():\n",
    "    if i==\"Ricky\":\n",
    "        print(i+\" is the owner of dogs\")\n",
    "    else:\n",
    "        print( \"Dogs are \"+ i)\n",
    "   "
   ]
  },
  {
   "cell_type": "code",
   "execution_count": 10,
   "id": "a4e06abf",
   "metadata": {},
   "outputs": [
    {
     "data": {
      "text/plain": [
       "{'Anik': ['Saint_Martin', 'Bandarban', 'Ratargul'],\n",
       " 'Junaid': ['Rangamati', 'Coxs-Bazar'],\n",
       " 'Tuhin': ['Kashmir']}"
      ]
     },
     "execution_count": 10,
     "metadata": {},
     "output_type": "execute_result"
    }
   ],
   "source": [
    "favourite_places={\"Anik\":[\"Saint_Martin\",\"Bandarban\",\"Ratargul\"],\"Junaid\":[\"Rangamati\",\"Coxs-Bazar\"],\"Tuhin\":[\"Kashmir\"]}\n",
    "favourite_places"
   ]
  },
  {
   "cell_type": "code",
   "execution_count": 14,
   "id": "5a62bd43",
   "metadata": {},
   "outputs": [
    {
     "data": {
      "text/plain": [
       "dict_items([('Anik', ['Saint_Martin', 'Bandarban', 'Ratargul']), ('Junaid', ['Rangamati', 'Coxs-Bazar']), ('Tuhin', ['Kashmir'])])"
      ]
     },
     "execution_count": 14,
     "metadata": {},
     "output_type": "execute_result"
    }
   ],
   "source": [
    "favourite_places.items()"
   ]
  },
  {
   "cell_type": "code",
   "execution_count": 49,
   "id": "7de887a3",
   "metadata": {},
   "outputs": [
    {
     "name": "stdout",
     "output_type": "stream",
     "text": [
      "ANIK's favorite place :SAINT_MARTIN\n",
      "JUNAID's favorite place :COXS-BAZAR\n",
      "TUHIN's favorite place :KASHMIR\n"
     ]
    }
   ],
   "source": [
    " for i ,j in favourite_places.items():\n",
    "        if i==\"Anik\":\n",
    "            print(i.upper()+\"\\'s favorite place :\"+j[0].upper())\n",
    "        elif i==\"Junaid\":\n",
    "            print(i.upper()+\"\\'s favorite place :\"+j[1].upper())\n",
    "        else:\n",
    "            print(i.upper()+\"\\'s favorite place :\"+j[0].upper())"
   ]
  },
  {
   "cell_type": "code",
   "execution_count": 45,
   "id": "b23bcd8b",
   "metadata": {},
   "outputs": [
    {
     "data": {
      "text/plain": [
       "{'London': {'country': 'UK',\n",
       "  'population': 'approx. 10 millions',\n",
       "  'fact': 'Hub of Europe'},\n",
       " 'Berlin': {'country': 'Germany',\n",
       "  'population': 'approx. 7 millions',\n",
       "  'fact': ' place of Brandenbutengburg gate'},\n",
       " 'New York': {'country': 'USA',\n",
       "  'population': 'approx. 19 millions',\n",
       "  'fact': 'Capital of Worlds'}}"
      ]
     },
     "execution_count": 45,
     "metadata": {},
     "output_type": "execute_result"
    }
   ],
   "source": [
    "cities={\"London\":{\"country\":\"UK\",\"population\":\"approx. 10 millions\",\"fact\":\"Hub of Europe\"},\"Berlin\":{\"country\":\"Germany\",\"population\":\"approx. 7 millions\",\"fact\":\" place of Brandenbutengburg gate\"},\"New York\":{\"country\":\"USA\",\"population\":\"approx. 19 millions\",\"fact\":\"Capital of Worlds\"}}\n",
    "\n",
    "cities\n"
   ]
  },
  {
   "cell_type": "code",
   "execution_count": 46,
   "id": "af6eff8b",
   "metadata": {},
   "outputs": [
    {
     "name": "stdout",
     "output_type": "stream",
     "text": [
      "London is the best tourist spot in Europe\n",
      " \n",
      "Berlin was invaded by RED ARMY\n",
      "\n",
      "New York is the biggest capital in the World\n",
      "\n"
     ]
    }
   ],
   "source": [
    "for i in cities.keys():\n",
    "    if i==\"Berlin\":\n",
    "        print(i+\" was invaded by RED ARMY\\n\")\n",
    "    elif i==\"London\":\n",
    "        print(i+\" is the best tourist spot in Europe\\n \")\n",
    "    else:\n",
    "        print(i+\" is the biggest capital in the World\\n\")"
   ]
  },
  {
   "cell_type": "code",
   "execution_count": 47,
   "id": "a358be36",
   "metadata": {},
   "outputs": [
    {
     "name": "stdout",
     "output_type": "stream",
     "text": [
      "\n",
      "London is the capital of UK\n",
      "UK has approx. 10 millions people\n",
      "London is the Hub of Europe\n",
      "\n",
      "Berlin is the capital of Germany\n",
      "Germany has approx. 7 millions people\n",
      "Berlin is the  place of Brandenbutengburg gate\n",
      "\n",
      "New York is the capital of USA\n",
      "USA has approx. 19 millions people\n",
      "New York is the Capital of Worlds\n"
     ]
    }
   ],
   "source": [
    "for i,j in cities.items():\n",
    "    print(\"\\n\"+i+\" is the capital of \"+j[\"country\"])\n",
    "    print(j[\"country\"]+\" has \"+j[\"population\"]+\" people\")\n",
    "    print(i+\" is the \"+j[\"fact\"])\n",
    "    "
   ]
  },
  {
   "cell_type": "code",
   "execution_count": null,
   "id": "838aff1c",
   "metadata": {},
   "outputs": [],
   "source": []
  },
  {
   "cell_type": "code",
   "execution_count": null,
   "id": "f9289675",
   "metadata": {},
   "outputs": [],
   "source": []
  },
  {
   "cell_type": "code",
   "execution_count": null,
   "id": "25e2e3d8",
   "metadata": {},
   "outputs": [],
   "source": []
  },
  {
   "cell_type": "code",
   "execution_count": null,
   "id": "9b5f8b13",
   "metadata": {},
   "outputs": [],
   "source": []
  }
 ],
 "metadata": {
  "kernelspec": {
   "display_name": "Python 3 (ipykernel)",
   "language": "python",
   "name": "python3"
  },
  "language_info": {
   "codemirror_mode": {
    "name": "ipython",
    "version": 3
   },
   "file_extension": ".py",
   "mimetype": "text/x-python",
   "name": "python",
   "nbconvert_exporter": "python",
   "pygments_lexer": "ipython3",
   "version": "3.9.13"
  }
 },
 "nbformat": 4,
 "nbformat_minor": 5
}

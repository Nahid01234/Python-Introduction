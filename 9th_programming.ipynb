{
 "cells": [
  {
   "cell_type": "markdown",
   "id": "0b637bbd",
   "metadata": {},
   "source": [
    "### Function    "
   ]
  },
  {
   "cell_type": "code",
   "execution_count": 5,
   "id": "4f49928d",
   "metadata": {},
   "outputs": [
    {
     "name": "stdout",
     "output_type": "stream",
     "text": [
      "Hello ,Pythoner!!\n"
     ]
    }
   ],
   "source": [
    "def info():\n",
    "    print(\"Hello ,Pythoner!!\")\n",
    "info()"
   ]
  },
  {
   "cell_type": "code",
   "execution_count": 4,
   "id": "c006dea1",
   "metadata": {},
   "outputs": [
    {
     "name": "stdout",
     "output_type": "stream",
     "text": [
      "Are you become a Python Enthuciastic!!\n"
     ]
    }
   ],
   "source": [
    "def information(info):\n",
    "    print(\"Are you become a \"+info)\n",
    "information(\"Python Enthuciastic!!\")    "
   ]
  },
  {
   "cell_type": "code",
   "execution_count": 33,
   "id": "6409c90f",
   "metadata": {},
   "outputs": [
    {
     "name": "stdout",
     "output_type": "stream",
     "text": [
      "Have a dream to be a Python Tutor!!\n"
     ]
    }
   ],
   "source": [
    "def check(a=\"Python\"):\n",
    "    print(\"Have a dream to be a \"+a+\" Tutor!!\")\n",
    "check()  "
   ]
  },
  {
   "cell_type": "code",
   "execution_count": 8,
   "id": "a723a449",
   "metadata": {},
   "outputs": [
    {
     "name": "stdout",
     "output_type": "stream",
     "text": [
      "Sum:  3\n"
     ]
    }
   ],
   "source": [
    "def sum(a,b):\n",
    "    print(\"Sum: \",(a+b))\n",
    "sum(1,2)    "
   ]
  },
  {
   "cell_type": "code",
   "execution_count": 9,
   "id": "1c2b57d5",
   "metadata": {},
   "outputs": [
    {
     "name": "stdout",
     "output_type": "stream",
     "text": [
      "Sum:  3\n"
     ]
    }
   ],
   "source": [
    "def  sum(a,b):\n",
    "    c=a+b\n",
    "    print(\"Sum: \",c)\n",
    "sum(1,2)"
   ]
  },
  {
   "cell_type": "code",
   "execution_count": 12,
   "id": "4b94ce33",
   "metadata": {},
   "outputs": [
    {
     "name": "stdout",
     "output_type": "stream",
     "text": [
      "Multiplication:  12\n"
     ]
    }
   ],
   "source": [
    "def mult(a,b):\n",
    "    print(\"Multiplication: \",(a*b))\n",
    "mult(6,2)"
   ]
  },
  {
   "cell_type": "code",
   "execution_count": 14,
   "id": "5cf096ed",
   "metadata": {},
   "outputs": [
    {
     "name": "stdout",
     "output_type": "stream",
     "text": [
      "Young\n",
      "Youth\n",
      "Young\n"
     ]
    }
   ],
   "source": [
    "def age(old):\n",
    "    if old<10:\n",
    "        print(\"Youth\")\n",
    "    else:\n",
    "        print(\"Young\")\n",
    "age(15) \n",
    "age(9)\n",
    "age(10)"
   ]
  },
  {
   "cell_type": "code",
   "execution_count": 23,
   "id": "b276a55b",
   "metadata": {},
   "outputs": [
    {
     "name": "stdout",
     "output_type": "stream",
     "text": [
      "\n",
      "My dream is to be an Artificial Inteligence Enthuciastic!!\n",
      "My dream is to be a Machine Learning Practioner!!\n"
     ]
    }
   ],
   "source": [
    "               #positional_arguments\n",
    "def dreams(AI,ML):\n",
    "    print(\"\\nMy dream is to be an \"+AI+\" Enthuciastic!!\")\n",
    "    print(\"My dream is to be a \"+ML+\" Practioner!!\")\n",
    "dreams(\"Artificial Inteligence\",\"Machine Learning\")\n"
   ]
  },
  {
   "cell_type": "code",
   "execution_count": 24,
   "id": "02e53614",
   "metadata": {},
   "outputs": [
    {
     "name": "stdout",
     "output_type": "stream",
     "text": [
      "\n",
      "My dream is to be an Artificial Inteligence Enthuciastic!!\n",
      "My dream is to be a Machine Learning Practioner!!\n",
      "\n",
      "My dream is to be an Python Programming Enthuciastic!!\n",
      "My dream is to be a Python Developing Practioner!!\n"
     ]
    }
   ],
   "source": [
    "             #multiple_function_call\n",
    "def dreams(AI,ML):\n",
    "    print(\"\\nMy dream is to be an \"+AI+\" Enthuciastic!!\")\n",
    "    print(\"My dream is to be a \"+ML+\" Practioner!!\")\n",
    "dreams(\"Artificial Inteligence\",\"Machine Learning\")\n",
    "dreams(\"Python Programming\",\"Python Developing\")"
   ]
  },
  {
   "cell_type": "code",
   "execution_count": 26,
   "id": "459f95c9",
   "metadata": {},
   "outputs": [
    {
     "name": "stdout",
     "output_type": "stream",
     "text": [
      "\n",
      "My dream is to be an Artificial Inteligence Enthuciastic!!\n",
      "My dream is to be a Machine Learning Practioner!!\n"
     ]
    }
   ],
   "source": [
    "                 #keyword_arguments\n",
    "\n",
    "def dreams(AI,ML):\n",
    "    print(\"\\nMy dream is to be an \"+AI+\" Enthuciastic!!\")\n",
    "    print(\"My dream is to be a \"+ML+\" Practioner!!\")\n",
    "dreams(ML=\"Machine Learning\",AI=\"Artificial Inteligence\")#equivalent_of(AI=\"Artificial Inteligence,ML=\"Machine Learning\")\n"
   ]
  },
  {
   "cell_type": "code",
   "execution_count": 47,
   "id": "ee59ab74",
   "metadata": {},
   "outputs": [
    {
     "name": "stdout",
     "output_type": "stream",
     "text": [
      "I will buy BMW in future.\n",
      "The Harley Davidson is very expensive motorbike.\n"
     ]
    }
   ],
   "source": [
    "\n",
    "def vahicle(bike_name,car_name=\"BMW\"):#default_value(\"BMW\")\n",
    "    print(\"I will buy \"+car_name+\" in future.\")\n",
    "    print(\"The \"+bike_name+\" is very expensive motorbike.\")\n",
    "vahicle(bike_name=\"Harley Davidson\")   "
   ]
  },
  {
   "cell_type": "code",
   "execution_count": 48,
   "id": "41c07e73",
   "metadata": {},
   "outputs": [
    {
     "name": "stdout",
     "output_type": "stream",
     "text": [
      "I will buy BMW in future.\n",
      "The Harley Davidson is very expensive motorbike.\n"
     ]
    }
   ],
   "source": [
    "\n",
    "def vahicle(bike_name,car_name=\"BMW\"):#default_value(\"BMW\")\n",
    "    print(\"I will buy \"+car_name+\" in future.\")\n",
    "    print(\"The \"+bike_name+\" is very expensive motorbike.\")\n",
    "vahicle(\"Harley Davidson\") "
   ]
  },
  {
   "cell_type": "code",
   "execution_count": 49,
   "id": "a88748c1",
   "metadata": {},
   "outputs": [
    {
     "name": "stdout",
     "output_type": "stream",
     "text": [
      "I will buy BMW in future.\n",
      "The Harley Davidson is very expensive motorbike.\n"
     ]
    }
   ],
   "source": [
    "\n",
    "def vahicle(bike_name=\"Harley Davidson\",car_name=\"BMW\"):\n",
    "    print(\"I will buy \"+car_name+\" in future.\")\n",
    "    print(\"The \"+bike_name+\" is very expensive motorbike.\")\n",
    "vahicle() "
   ]
  },
  {
   "cell_type": "code",
   "execution_count": 50,
   "id": "d5b63c8d",
   "metadata": {},
   "outputs": [
    {
     "name": "stdout",
     "output_type": "stream",
     "text": [
      "I will buy BMW in future.\n",
      "The Harley Davidson is very expensive motorbike.\n",
      "The famous trucktor is Mahindra\n"
     ]
    }
   ],
   "source": [
    "def vahicle(bike_name,truck_name,car_name=\"BMW\"):#default_value(\"BMW\")\n",
    "    print(\"I will buy \"+car_name+\" in future.\")\n",
    "    print(\"The \"+bike_name+\" is very expensive motorbike.\")\n",
    "    print(\"The famous trucktor is \"+truck_name)\n",
    "vahicle(\"Harley Davidson\",\"Mahindra\") "
   ]
  },
  {
   "cell_type": "code",
   "execution_count": 54,
   "id": "ba2f307e",
   "metadata": {},
   "outputs": [
    {
     "name": "stdout",
     "output_type": "stream",
     "text": [
      "size of your shirt is XXL\n",
      "Always Grow & Always Go!\n"
     ]
    }
   ],
   "source": [
    "        #example_of_positional_argument\n",
    "\n",
    "def make_shirt(size,text):\n",
    "    print(\"size of your shirt is \"+size)\n",
    "    print(text)\n",
    "    \n",
    "make_shirt(\"XXL\",\"Always Grow & Always Go!\")    \n",
    "     \n",
    "    "
   ]
  },
  {
   "cell_type": "code",
   "execution_count": 55,
   "id": "8fda5e92",
   "metadata": {},
   "outputs": [
    {
     "name": "stdout",
     "output_type": "stream",
     "text": [
      "size of your shirt is XXL\n",
      "Always Grow & Always Go!\n"
     ]
    }
   ],
   "source": [
    "       #example_of_keyword_argument\n",
    "\n",
    "def make_shirt(size,text):\n",
    "    print(\"size of your shirt is \"+size)\n",
    "    print(text)\n",
    "    \n",
    "make_shirt(text=\"Always Grow & Always Go!\",size=\"XXL\")    "
   ]
  },
  {
   "cell_type": "code",
   "execution_count": 57,
   "id": "ec6af60d",
   "metadata": {},
   "outputs": [
    {
     "name": "stdout",
     "output_type": "stream",
     "text": [
      "size of your shirt is large\n",
      "I Love Python!\n"
     ]
    }
   ],
   "source": [
    "\n",
    "\n",
    "def make_shirt(text,size=\"large\"):\n",
    "    print(\"size of your shirt is \"+size)\n",
    "    print(text)\n",
    "    \n",
    "make_shirt(text=\"I Love Python!\")"
   ]
  },
  {
   "cell_type": "code",
   "execution_count": 60,
   "id": "5212b768",
   "metadata": {},
   "outputs": [
    {
     "name": "stdout",
     "output_type": "stream",
     "text": [
      "Size of your shirt is large\n",
      "Size of my shirt is medium\n",
      "Massage to all: Love Your Life!\n"
     ]
    }
   ],
   "source": [
    "def make_shirt(size_1,size_2,text=\"Love Your Life!\"):\n",
    "    print(\"Size of your shirt is \"+size_1)\n",
    "    print(\"Size of my shirt is \"+size_2)\n",
    "    print(\"Massage to all: \"+text)\n",
    "    \n",
    "make_shirt(\"large\",\"medium\")"
   ]
  },
  {
   "cell_type": "code",
   "execution_count": 3,
   "id": "9059a404",
   "metadata": {},
   "outputs": [
    {
     "name": "stdout",
     "output_type": "stream",
     "text": [
      "My name is Nahid Hassan Rifat\n"
     ]
    }
   ],
   "source": [
    "def name(last_name,first_name):\n",
    "    print(\"My name is \"+first_name+ \" Hassan \"+last_name)\n",
    "    \n",
    "name(\"Rifat\",\"Nahid\")    "
   ]
  },
  {
   "cell_type": "code",
   "execution_count": 4,
   "id": "983bdd79",
   "metadata": {},
   "outputs": [
    {
     "name": "stdout",
     "output_type": "stream",
     "text": [
      "My name is Nahid Hassan Rifat\n"
     ]
    }
   ],
   "source": [
    "def name(last_name,first_name):\n",
    "  full_name=\"My name is \"+first_name+ \" Hassan \"+last_name\n",
    "  print(full_name)  \n",
    "name(\"Rifat\",\"Nahid\") "
   ]
  },
  {
   "cell_type": "code",
   "execution_count": 11,
   "id": "693a5198",
   "metadata": {},
   "outputs": [
    {
     "name": "stdout",
     "output_type": "stream",
     "text": [
      "My name is Nahid Hassan Rifat\n"
     ]
    }
   ],
   "source": [
    "def name(first_name,middle_name,last_name):\n",
    "    full_name=\"My name is \"+first_name+\" \"+middle_name+\" \"+last_name\n",
    "    print(full_name) \n",
    "name(\"Nahid\",\"Hassan\",\"Rifat\") \n"
   ]
  },
  {
   "cell_type": "code",
   "execution_count": 23,
   "id": "6ad99c27",
   "metadata": {},
   "outputs": [
    {
     "name": "stdout",
     "output_type": "stream",
     "text": [
      "My name is Nahid   Rifat\n",
      "My name is Nahid Hassan Rifat\n"
     ]
    }
   ],
   "source": [
    "def name(first_name,last_name,middle_name=\" \"):\n",
    "    if middle_name:\n",
    "         full_name=\"My name is \"+first_name+\" \"+middle_name+\" \"+last_name\n",
    "         print(full_name)\n",
    "    else:\n",
    "        full_name=\"My name is \"+first_name+\" \"+last_name\n",
    "        print(full_name)\n",
    "     \n",
    " \n",
    "name(\"Nahid\",\"Rifat\")\n",
    "name(\"Nahid\",\"Rifat\",\"Hassan\")"
   ]
  },
  {
   "cell_type": "code",
   "execution_count": 32,
   "id": "a54b0577",
   "metadata": {},
   "outputs": [
    {
     "name": "stdout",
     "output_type": "stream",
     "text": [
      "My name is Nahid   Rifat\n",
      "My name is Nahid Hassan Rifat\n"
     ]
    }
   ],
   "source": [
    "def name(first_name,last_name,middle_name=\" \"):\n",
    "    if middle_name:\n",
    "         full_name=\"My name is \"+first_name+\" \"+middle_name+\" \"+last_name\n",
    "         print(full_name)     \n",
    " \n",
    "name(\"Nahid\",\"Rifat\")\n",
    "name(\"Nahid\",\"Rifat\",\"Hassan\")"
   ]
  },
  {
   "cell_type": "code",
   "execution_count": 35,
   "id": "88a2aeb6",
   "metadata": {},
   "outputs": [
    {
     "name": "stdout",
     "output_type": "stream",
     "text": [
      "{'first': 'Nahid', 'age': 23, 'last': 'Rifat'}\n",
      "{'first': 'Shariar', 'age': 23, 'last': 'Tanu'}\n"
     ]
    }
   ],
   "source": [
    "def name(first_name,last_name,age= \" \"):\n",
    "    man={\"first\":first_name,\"age\":age,\"last\":last_name}\n",
    "    print(man)\n",
    "name(\"Nahid\",\"Rifat\",23)\n",
    "name(\"Shariar\",\"Tanu\",23)\n",
    "\n"
   ]
  },
  {
   "cell_type": "code",
   "execution_count": 1,
   "id": "241fbde6",
   "metadata": {},
   "outputs": [
    {
     "name": "stdout",
     "output_type": "stream",
     "text": [
      "Nahid Hassan\n",
      "Enter the f_name:nahid\n",
      "Enter your l_name:hassan\n",
      "Enter the f_name:quit\n"
     ]
    }
   ],
   "source": [
    "def nam(f_name,l_name):\n",
    "     full_name=f_name+\" \"+l_name\n",
    "     print(full_name)\n",
    "nam(\"Nahid\",\"Hassan\") \n",
    "while True:\n",
    "    f_name=input(\"Enter the f_name:\")\n",
    "    if f_name==\"quit\":\n",
    "        break\n",
    "    l_name=input(\"Enter your l_name:\") \n",
    "    if l_name==\"quit\":\n",
    "        break\n",
    "     "
   ]
  },
  {
   "cell_type": "code",
   "execution_count": 13,
   "id": "b42fb300",
   "metadata": {},
   "outputs": [
    {
     "name": "stdout",
     "output_type": "stream",
     "text": [
      " \"London,Great Britain \"\n"
     ]
    }
   ],
   "source": [
    "def city_country(city_name,country_name):\n",
    "    discription=f\" \\\"{city_name},{country_name} \\\"\"\n",
    "    print(discription)\n",
    "city_country(\"London\",\"Great Britain\")    "
   ]
  },
  {
   "cell_type": "code",
   "execution_count": 19,
   "id": "16b44a79",
   "metadata": {},
   "outputs": [
    {
     "name": "stdout",
     "output_type": "stream",
     "text": [
      "Hello, Rayan!!\n",
      "Hello, Rod!!\n",
      "Hello, Jessi!!\n"
     ]
    }
   ],
   "source": [
    "def greet_user(name):\n",
    "    for i in name:\n",
    "        print(\"Hello, \"+i+\"!!\")\n",
    "            \n",
    "name=[\"Rayan\",\"Rod\",\"Jessi\"]\n",
    "greet_user(name)"
   ]
  },
  {
   "cell_type": "code",
   "execution_count": 47,
   "id": "23eea62e",
   "metadata": {},
   "outputs": [
    {
     "name": "stdout",
     "output_type": "stream",
     "text": [
      "Printing model:3D\n",
      "Printing model:2D\n",
      "Printing model:Rod\n",
      "Printing model:Cod\n",
      "\n",
      "Show the printed models:\n",
      "3D\n",
      "2D\n",
      "Rod\n",
      "Cod\n"
     ]
    }
   ],
   "source": [
    "def unprinted_model(name,new_name):\n",
    "    while name:\n",
    "        a=name.pop()\n",
    "        print(\"Printing model:\"+a)\n",
    "        new_name.append(a)\n",
    "\n",
    "def printed_model(new_name):\n",
    "    print(\"\\nShow the printed models:\")\n",
    "    for i in new_name:\n",
    "        print(i)\n",
    "\n",
    "\n",
    "\n",
    "name=[\"Cod\",\"Rod\",\"2D\",\"3D\"]\n",
    "new_name=[]\n",
    "\n",
    "unprinted_model(name[:],new_name)#or unprinted_model(name,new_name)\n",
    "printed_model(new_name)\n"
   ]
  },
  {
   "cell_type": "code",
   "execution_count": 71,
   "id": "5b7de08b",
   "metadata": {},
   "outputs": [
    {
     "name": "stdout",
     "output_type": "stream",
     "text": [
      "My name is:Jey\n",
      "My name is:Abdal\n",
      "My name is:Calport\n"
     ]
    }
   ],
   "source": [
    "def show_magician(name):\n",
    "    for i in name:\n",
    "        print(\"My name is:\"+i)\n",
    "name=[\"Jey\",\"Abdal\",\"Calport\"]\n",
    "show_magician(name)"
   ]
  },
  {
   "cell_type": "code",
   "execution_count": 93,
   "id": "ceaf0fa8",
   "metadata": {},
   "outputs": [
    {
     "name": "stdout",
     "output_type": "stream",
     "text": [
      "6\n",
      "q is larger\n",
      "Area of Tringle: 9.0\n",
      "Median: 0.8333333333333334\n"
     ]
    }
   ],
   "source": [
    "def summation(a,b,c):\n",
    "    sum=a+b+c\n",
    "    print(sum)\n",
    "def lar_sl(p,q):\n",
    "    if p>q:\n",
    "        print(\"p is larger\")\n",
    "    else:\n",
    "        print(\"q is larger\")        \n",
    "def area_tri(l,m):\n",
    "    Tri_area=0.5*l*m\n",
    "    print(\"Area of Tringle:\",Tri_area)\n",
    "def median(a,b):\n",
    "    m=(a+b)/(a*b)\n",
    "    print(\"Median:\",m)\n",
    "summation(1,2,3) \n",
    "lar_sl(4,7)\n",
    "area_tri(3,6)\n",
    "median(a,b)\n",
    "\n",
    "\n",
    "\n",
    "\n"
   ]
  },
  {
   "cell_type": "code",
   "execution_count": 5,
   "id": "217ee440",
   "metadata": {},
   "outputs": [
    {
     "name": "stdout",
     "output_type": "stream",
     "text": [
      "\n",
      "They order these sandwichs:\n",
      "\t-Beef-Sandwich\n",
      "\t-Chicken-Sandwich\n",
      "\n",
      "They order these sandwichs:\n",
      "\t-Veg-Sandwich\n",
      "\t-Becken-Sandwich\n",
      "\t-Halapino-Sandwich\n",
      "\n",
      "They order these sandwichs:\n",
      "\t-Cheese-Sandwich\n"
     ]
    }
   ],
   "source": [
    "               #example_of_arbitrary_arguments\n",
    "\n",
    "def sandwich_order(*order): \n",
    "    print(\"\\nThey order these sandwichs:\")\n",
    "    for i in order:\n",
    "        print(\"\\t-\"+i)\n",
    "        \n",
    "sandwich_order(\"Beef-Sandwich\",\"Chicken-Sandwich\")\n",
    "sandwich_order(\"Veg-Sandwich\",\"Becken-Sandwich\",\"Halapino-Sandwich\")\n",
    "sandwich_order(\"Cheese-Sandwich\")     "
   ]
  },
  {
   "cell_type": "code",
   "execution_count": 17,
   "id": "04f3787f",
   "metadata": {},
   "outputs": [
    {
     "name": "stdout",
     "output_type": "stream",
     "text": [
      "{'First-Name': 'Nahid', 'Last-Name': 'Rifat', 'Home': 'Birampur', 'Institution': 'University of Rajshahi', 'Dream': 'ML & Al  Enthiciastic'}\n"
     ]
    }
   ],
   "source": [
    "                                 #example_of_arbitrary_keyward_arguments\n",
    "    \n",
    "def user_profile(f_name,l_name,**profile):\n",
    "    pro_dict={}\n",
    "    pro_dict[\"First-Name\"]=f_name\n",
    "    pro_dict[\"Last-Name\"]=l_name\n",
    "    for i,j in profile.items():\n",
    "        pro_dict[i]=j\n",
    "    return  pro_dict\n",
    "personal_profile=user_profile(\"Nahid\",\"Rifat\",Home=\"Birampur\",Institution=\"University of Rajshahi\",Dream=\"ML & Al  Enthiciastic\" )\n",
    "print(personal_profile)\n",
    "    "
   ]
  },
  {
   "cell_type": "code",
   "execution_count": null,
   "id": "ae2aee79",
   "metadata": {},
   "outputs": [],
   "source": []
  },
  {
   "cell_type": "code",
   "execution_count": null,
   "id": "ac07bdc6",
   "metadata": {},
   "outputs": [],
   "source": []
  },
  {
   "cell_type": "code",
   "execution_count": null,
   "id": "a107de31",
   "metadata": {},
   "outputs": [],
   "source": []
  },
  {
   "cell_type": "code",
   "execution_count": null,
   "id": "0c9767f1",
   "metadata": {},
   "outputs": [],
   "source": []
  },
  {
   "cell_type": "code",
   "execution_count": null,
   "id": "1027fe69",
   "metadata": {},
   "outputs": [],
   "source": []
  },
  {
   "cell_type": "code",
   "execution_count": null,
   "id": "7eb7c5cb",
   "metadata": {},
   "outputs": [],
   "source": []
  },
  {
   "cell_type": "code",
   "execution_count": null,
   "id": "317057fd",
   "metadata": {},
   "outputs": [],
   "source": []
  }
 ],
 "metadata": {
  "kernelspec": {
   "display_name": "Python 3 (ipykernel)",
   "language": "python",
   "name": "python3"
  },
  "language_info": {
   "codemirror_mode": {
    "name": "ipython",
    "version": 3
   },
   "file_extension": ".py",
   "mimetype": "text/x-python",
   "name": "python",
   "nbconvert_exporter": "python",
   "pygments_lexer": "ipython3",
   "version": "3.9.13"
  }
 },
 "nbformat": 4,
 "nbformat_minor": 5
}
